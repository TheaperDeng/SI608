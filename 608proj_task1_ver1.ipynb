{
 "cells": [
  {
   "cell_type": "markdown",
   "metadata": {},
   "source": [
    "# SI 608 Project Task 1 Emoji Co-occurrence"
   ]
  },
  {
   "cell_type": "markdown",
   "metadata": {},
   "source": [
    "## 1. Build emoji network:"
   ]
  },
  {
   "cell_type": "markdown",
   "metadata": {},
   "source": [
    "We are prepraring the data and extract the first 10k tweets with emojis for use:"
   ]
  },
  {
   "cell_type": "code",
   "execution_count": 1,
   "metadata": {},
   "outputs": [],
   "source": [
    "Meta = []\n",
    "with open('./data/emojitweets-01-04-2018.txt', 'r', encoding= 'utf-8') as f:\n",
    "    for i in range(10000):\n",
    "        Meta.append(f.readline().strip())\n",
    "# Meta"
   ]
  },
  {
   "cell_type": "code",
   "execution_count": 2,
   "metadata": {},
   "outputs": [],
   "source": [
    "import emoji\n",
    "# s = Meta[0]\n",
    "# [c for c in s if c in emoji.UNICODE_EMOJI]\n",
    "\n",
    "emojis = []\n",
    "for s in Meta:\n",
    "    emojis.append([c for c in s if c in emoji.UNICODE_EMOJI])\n",
    "# emojis"
   ]
  },
  {
   "cell_type": "markdown",
   "metadata": {},
   "source": [
    "Build the undirected weighted network with the weights mean the number of occurrences of that emoji pair:"
   ]
  },
  {
   "cell_type": "code",
   "execution_count": 3,
   "metadata": {},
   "outputs": [],
   "source": [
    "import networkx as nx\n",
    "import networkx.algorithms.centrality as nce\n",
    "import networkx.algorithms.cluster as ncl\n",
    "\n",
    "\n",
    "# Build a undirected weighted network:\n",
    "emoji_w_g = nx.Graph()\n",
    "for s in emojis:\n",
    "    for ki, vi in enumerate(s):\n",
    "        if ki == len(s) - 1:\n",
    "            break\n",
    "        for kj, vj in enumerate(s[ki + 1:]):\n",
    "            kj = ki + 1 + kj\n",
    "            if vi != vj:\n",
    "                if emoji_w_g.has_edge(vi, vj):\n",
    "                    emoji_w_g[vi][vj]['weight'] += 1\n",
    "                else:\n",
    "                    emoji_w_g.add_weighted_edges_from([(vi, vj, 1)])"
   ]
  },
  {
   "cell_type": "code",
   "execution_count": 4,
   "metadata": {},
   "outputs": [
    {
     "data": {
      "text/plain": [
       "718"
      ]
     },
     "execution_count": 4,
     "metadata": {},
     "output_type": "execute_result"
    }
   ],
   "source": [
    "len(emoji_w_g.nodes())"
   ]
  },
  {
   "cell_type": "code",
   "execution_count": 5,
   "metadata": {
    "scrolled": true
   },
   "outputs": [
    {
     "data": {
      "text/plain": [
       "5698"
      ]
     },
     "execution_count": 5,
     "metadata": {},
     "output_type": "execute_result"
    }
   ],
   "source": [
    "len(emoji_w_g.edges())"
   ]
  },
  {
   "cell_type": "markdown",
   "metadata": {},
   "source": [
    "Weights of edges:"
   ]
  },
  {
   "cell_type": "code",
   "execution_count": 6,
   "metadata": {},
   "outputs": [
    {
     "data": {
      "text/plain": [
       "2750"
      ]
     },
     "execution_count": 6,
     "metadata": {},
     "output_type": "execute_result"
    }
   ],
   "source": [
    "# for e in G.edges():\n",
    "#     print(G[e[0]][e[1]]['weight'])\n",
    "\n",
    "l= 0\n",
    "for e in emoji_w_g.edges():\n",
    "    if emoji_w_g[e[0]][e[1]]['weight'] > 1:\n",
    "        l += 1\n",
    "l"
   ]
  },
  {
   "cell_type": "markdown",
   "metadata": {},
   "source": [
    "## 2. Emoji network characteristics"
   ]
  },
  {
   "cell_type": "markdown",
   "metadata": {},
   "source": [
    "Given a network, there are several network characteristics that we can compute:\n",
    "\n",
    "1) Maximum edge weight\n",
    "\n",
    "2) Average edge weight\n",
    "\n",
    "3) Number of connected component\n",
    "\n",
    "4) Largest connected component\n",
    "\n",
    "5) Max Node betweenness\n",
    "\n",
    "6) Max Edge betweenness\n",
    "\n",
    "7) Assortavity\n",
    "\n",
    "8) Clustering coefficient\n",
    "\n",
    "9) Degree distribution\n",
    "\n",
    "10) Weighted degree distribution"
   ]
  },
  {
   "cell_type": "code",
   "execution_count": 7,
   "metadata": {},
   "outputs": [
    {
     "name": "stdout",
     "output_type": "stream",
     "text": [
      "Max_weight of graph is 1021\n"
     ]
    }
   ],
   "source": [
    "# 1. Maximum weight\n",
    "max_weight = 0\n",
    "for e in emoji_w_g.edges():\n",
    "    max_weight = max(max_weight, emoji_w_g[e[0]][e[1]]['weight'])\n",
    "print('Max_weight of graph is ' + str(max_weight))"
   ]
  },
  {
   "cell_type": "code",
   "execution_count": 8,
   "metadata": {},
   "outputs": [
    {
     "data": {
      "text/plain": [
       "6.29027729027729"
      ]
     },
     "execution_count": 8,
     "metadata": {},
     "output_type": "execute_result"
    }
   ],
   "source": [
    "# 2. average weights:\n",
    "def find_avg_weight(weight_G):\n",
    "    weight_sum = 0\n",
    "    for e in weight_G.edges():\n",
    "        weight_sum += emoji_w_g[e[0]][e[1]]['weight']\n",
    "    return weight_sum / len(weight_G.edges())\n",
    "\n",
    "find_avg_weight(emoji_w_g)"
   ]
  },
  {
   "cell_type": "code",
   "execution_count": 9,
   "metadata": {},
   "outputs": [
    {
     "name": "stdout",
     "output_type": "stream",
     "text": [
      "Num of connected component of graph is 7\n"
     ]
    }
   ],
   "source": [
    "# 3. Num of connected component\n",
    "num_com = nx.number_connected_components(emoji_w_g)\n",
    "print('Num of connected component of graph is ' + str(num_com))"
   ]
  },
  {
   "cell_type": "code",
   "execution_count": 10,
   "metadata": {},
   "outputs": [
    {
     "data": {
      "text/plain": [
       "706"
      ]
     },
     "execution_count": 10,
     "metadata": {},
     "output_type": "execute_result"
    }
   ],
   "source": [
    "# 4. Largest connected component:\n",
    "def find_largest_cc(weight_G):\n",
    "    emoji_largest = sorted(nx.connected_components(weight_G), key = len, reverse=True)[0]\n",
    "    emoji_largest = weight_G.subgraph(emoji_largest)\n",
    "    return emoji_largest\n",
    "\n",
    "emoji_largest = find_largest_cc(emoji_w_g)\n",
    "len(emoji_largest.nodes())"
   ]
  },
  {
   "cell_type": "code",
   "execution_count": 11,
   "metadata": {},
   "outputs": [
    {
     "name": "stdout",
     "output_type": "stream",
     "text": [
      "Max Node Betweenness of graph is 0.08436026676588289\n"
     ]
    }
   ],
   "source": [
    "# 5. Max Node Betweenness\n",
    "import operator\n",
    "central_dict = nx.betweenness_centrality(emoji_w_g, weight = 'weight')\n",
    "max_node_betweenness = max(central_dict, key=central_dict.get)\n",
    "central_dict[max_node_betweenness]\n",
    "print('Max Node Betweenness of graph is ' + str(central_dict[max_node_betweenness]))             "
   ]
  },
  {
   "cell_type": "code",
   "execution_count": 12,
   "metadata": {},
   "outputs": [
    {
     "data": {
      "text/plain": [
       "('❌', '🧢')"
      ]
     },
     "execution_count": 12,
     "metadata": {},
     "output_type": "execute_result"
    }
   ],
   "source": [
    "# 6. Max Edge betweenness:\n",
    "def find_max_edge_betweenness(weight_G):\n",
    "    edge_bet = nce.edge_betweenness_centrality(weight_G, weight = 'weight')\n",
    "    max_pair = sorted(edge_bet, key = lambda x: x[1], reverse=True)[0]\n",
    "    return max_pair\n",
    "\n",
    "find_max_edge_betweenness(emoji_w_g)"
   ]
  },
  {
   "cell_type": "code",
   "execution_count": 13,
   "metadata": {},
   "outputs": [
    {
     "name": "stdout",
     "output_type": "stream",
     "text": [
      "Assortavity of graph is -0.06648785495030517\n"
     ]
    }
   ],
   "source": [
    "# 7. Assortavity\n",
    "assort = nx.degree_assortativity_coefficient(emoji_w_g, weight = 'weight')\n",
    "print('Assortavity of graph is ' + str(assort))"
   ]
  },
  {
   "cell_type": "code",
   "execution_count": 14,
   "metadata": {},
   "outputs": [
    {
     "data": {
      "text/plain": [
       "0.002038225683955003"
      ]
     },
     "execution_count": 14,
     "metadata": {},
     "output_type": "execute_result"
    }
   ],
   "source": [
    "# 8. Clustering coefficient:\n",
    "def find_clustering_coeff(weight_G):\n",
    "    return ncl.average_clustering(weight_G, weight = 'weight')\n",
    "\n",
    "find_clustering_coeff(emoji_w_g)"
   ]
  },
  {
   "cell_type": "code",
   "execution_count": 15,
   "metadata": {},
   "outputs": [
    {
     "data": {
      "text/plain": [
       "<Figure size 640x480 with 1 Axes>"
      ]
     },
     "metadata": {},
     "output_type": "display_data"
    }
   ],
   "source": [
    "# 9. Degree Distribution\n",
    "import matplotlib.pyplot as plt\n",
    "G_unweight = emoji_w_g.copy()\n",
    "for e in G_unweight.edges():\n",
    "    G_unweight[e[0]][e[1]]['weight'] = 1\n",
    "degrees = [G_unweight.degree(n) for n in G_unweight.nodes()]\n",
    "plt.hist(degrees)\n",
    "plt.title('Degree Distribution')\n",
    "plt.xlabel('Degree')\n",
    "plt.ylabel('Distribution')\n",
    "plt.show()"
   ]
  },
  {
   "cell_type": "code",
   "execution_count": 16,
   "metadata": {},
   "outputs": [
    {
     "data": {
      "image/png": "[encoded data removed]",
      "text/plain": [
       "<Figure size 432x288 with 1 Axes>"
      ]
     },
     "metadata": {
      "needs_background": "light"
     },
     "output_type": "display_data"
    }
   ],
   "source": [
    "# 10. Weighted degree distribution:\n",
    "import collections\n",
    "import matplotlib.pyplot as plt\n",
    "\n",
    "def plot_w_deg_dis(weight_G):\n",
    "#     degree_sequence = sorted([d for n, d in weight_G.degree(weight = 'weight')], reverse=True)  # degree sequence\n",
    "#     degreeCount = collections.Counter(degree_sequence)\n",
    "#     deg, cnt = zip(*degreeCount.items())\n",
    "\n",
    "#     fig, ax = plt.subplots()\n",
    "#     plt.bar(deg, cnt, color=\"b\")\n",
    "\n",
    "#     plt.title(\"Degree Histogram\")\n",
    "#     plt.ylabel(\"Count\")\n",
    "#     plt.xlabel(\"Degree\")\n",
    "#     plt.show()\n",
    "    \n",
    "    degrees = [weight_G.degree(n, weight = 'weight') for n in weight_G.nodes()]\n",
    "    plt.hist(degrees)\n",
    "    plt.title('Degree Distribution')\n",
    "    plt.xlabel('Degree')\n",
    "    plt.ylabel('Distribution')\n",
    "    plt.show()\n",
    "    \n",
    "plot_w_deg_dis(emoji_w_g)"
   ]
  },
  {
   "cell_type": "code",
   "execution_count": 17,
   "metadata": {},
   "outputs": [
    {
     "data": {
      "text/plain": [
       "DegreeView({'🍆': 52, '🤪': 72, '🙃': 31, '💪': 241, '🏾': 997, '💯': 397, '💰': 77, '🚶': 152, '🏻': 1228, '♀': 1131, '💃': 55, '👠': 21, '👏': 1154, '🔔': 93, '🕙': 27, '🕑': 30, '👉': 385, '🏃': 76, '🙏': 796, '💞': 679, '💁': 87, '🏼': 1104, '✌': 120, '⚠': 202, '🌟': 175, '➡': 143, '👇': 169, '😍': 1707, '😂': 2985, '😻': 130, '🐶': 230, '🌹': 727, '💕': 2179, '😭': 1717, '💄': 112, '💋': 217, '🔥': 1343, '❤': 3001, '😉': 558, '👼': 38, '🏽': 1677, '😇': 59, '🤗': 153, '🙌': 502, '💓': 179, '💗': 1396, '🤣': 449, '😘': 226, '💘': 151, '🎊': 62, '🌆': 33, '🚖': 89, '📞': 92, '🤞': 79, '👄': 28, '🐤': 12, '✅': 128, '‼': 396, '🤧': 35, '💛': 227, '✨': 513, '🐰': 48, '💤': 1, '👀': 174, '😄': 247, '🐼': 15, '🖖': 7, '☁': 4, '👾': 11, '😜': 52, '💦': 278, '👅': 44, '🇺': 714, '🇸': 773, '🦅': 60, '🇮': 118, '🇹': 13, '⬅': 37, '🍹': 21, '👻': 9, '🖤': 135, '😩': 570, '😎': 264, '👌': 233, '🌺': 1135, '🍃': 91, '🌱': 27, '😆': 617, '😫': 66, '〰': 10, '▪': 6, '🤠': 33, '👑': 56, '😚': 394, '🏴': 2, '🇪': 123, '🦆': 305, '▶': 41, '👆': 54, '✍': 12, '🍊': 15, '😁': 131, '💚': 263, '🍦': 5, '🍧': 1, '💙': 305, '💖': 1401, '🤦': 663, '😈': 98, '🎉': 659, '😊': 497, '📝': 16, '🇧': 51, '🇷': 147, '🇯': 44, '🇵': 558, '🇬': 469, '🌈': 290, '🦋': 61, '🤷': 579, '♂': 1024, '🤔': 142, '😱': 99, '💸': 21, '😅': 68, '🍂': 28, '🍁': 44, '🌿': 39, '🎤': 68, '🍯': 7, '💍': 47, '🖕': 48, '⚡': 8, '📽': 5, '💥': 321, '🤬': 12, '💔': 81, '🎼': 39, '🤘': 107, '🌕': 7, '🏊': 2, '👊': 408, '🙂': 10, '😐': 17, '😒': 69, '😤': 28, '🏀': 44, '🎒': 3, '🤐': 12, '🗣': 89, '💧': 167, '🎶': 92, '🧐': 9, '😀': 41, '🏌': 6, '🏆': 163, '🆘': 34, '🎪': 2, '💎': 171, '😣': 42, '😓': 3, '🏡': 7, '👂': 10, '👨': 43, '🏫': 15, '🚨': 422, '💀': 379, '☄': 26, '🌎': 48, '🙇': 4, '💣': 342, '⚔': 18, '🧔': 32, '🎥': 68, '♥': 1391, '📈': 22, '💜': 403, '🔐': 20, '🔮': 33, '🌞': 158, '😬': 26, '😵': 11, '◻': 16, '❓': 14, '💅': 36, '😝': 76, '©': 13, '⏳': 32, '✊': 104, '🤥': 3, '🚀': 84, '⭐': 111, '🍒': 21, '🕺': 136, '🎭': 12, '🌧': 5, '🤨': 2, '👶': 6, '👩': 57, '🎓': 48, '🔃': 1, '💝': 67, '🔵': 611, '🔴': 794, '⚪': 573, '💡': 61, '🤙': 29, '😗': 169, '🇱': 227, '🙄': 141, '📚': 33, '™': 17, '😛': 54, '🐥': 44, '💳': 6, '🇾': 23, '🤫': 25, '🧀': 15, '🐐': 18, '➖': 136, '🖼': 3, '🎲': 8, '♦': 31, '🐱': 46, '☠': 235, '🤮': 15, '🤢': 13, '✈': 13, '😌': 43, '🧡': 141, '❌': 69, '🧢': 3, '🐍': 14, '♨': 35, '🏐': 2, '👈': 66, '🥇': 40, '⏱': 6, '⬇': 35, '🔽': 36, '💫': 175, '⏮': 10, '😔': 37, '😢': 108, '🤯': 38, '😳': 66, '🤭': 39, '🌴': 22, '📦': 1, '💼': 4, '📵': 10, '🍺': 12, '🍗': 12, '👍': 216, '😴': 41, '💐': 16, '🌸': 1302, '🔂': 12, '🎁': 251, '🚂': 3, '💨': 627, '😞': 29, '💌': 25, '🐣': 60, '🇨': 231, '🇦': 99, '↘': 26, '⏰': 91, '🎈': 132, '😽': 19, '🏂': 10, '🙋': 146, '💏': 28, '👁': 8, '👋': 35, '🤳': 15, '🚦': 30, '💒': 18, '🚩': 56, '😸': 5, '☺': 56, '⚾': 1, '🌻': 52, '☀': 75, '🤤': 195, '🅱': 6, '🅰': 11, '📹': 14, '🍼': 6, '📌': 23, '🆕': 6, '🔞': 29, '😋': 400, '🎀': 42, '🗳': 62, '🌘': 6, '🔪': 6, '🇩': 81, '🇲': 79, '🇽': 46, '✔': 96, '📸': 20, '😧': 13, '🍑': 29, '🌜': 6, '🌛': 8, '🌚': 13, '🌝': 10, '😕': 16, '📷': 18, '🔊': 21, '🎚': 17, '❣': 57, '⏬': 10, '🎬': 44, '👔': 8, 'Ⓜ': 8, '❗': 43, '🍌': 7, '😹': 13, '🏿': 230, '🏘': 3, '🏠': 14, '🏙': 3, '😃': 221, '❄': 125, '🎆': 11, '🌠': 16, '♈': 66, '♐': 66, '🤩': 222, '🍾': 57, '◀': 7, '👱': 86, '😏': 52, '🌊': 34, '👃': 8, '🎂': 26, '🏨': 32, '😶': 13, '🐻': 16, '👙': 13, '🍉': 30, '☘': 38, '🚹': 5, '🤸': 17, '🥋': 6, '☯': 6, '🙆': 111, '🍩': 13, '🕰': 43, '🖥': 39, '🎮': 53, '🚗': 81, '📅': 32, '💑': 44, '😙': 137, '🚧': 23, '🚙': 23, '💊': 4, '⚫': 10, '⚓': 1, '🔁': 21, '®': 11, '☕': 23, '🍵': 2, '⛳': 2, '😡': 2, '🐯': 167, '🦄': 47, '🍀': 72, '🙅': 33, '🌙': 14, '⚽': 90, '🌒': 3, '🌷': 59, '☝': 15, '🔹': 134, '◾': 10, '😪': 29, '🐾': 46, '🔫': 12, '😥': 7, '⏺': 3, '🦃': 4, '🇭': 40, '🤝': 3, '✝': 15, '🐦': 52, '💻': 11, '🐞': 70, '🍏': 4, '🔌': 3, '🅿': 12, '👰': 2, '➕': 1, '♻': 13, '🎧': 14, '🙀': 15, '😰': 20, '🌃': 4, '🌌': 4, '🎨': 15, '😯': 4, '👧': 3, '🙍': 2, '♒': 55, '♌': 55, '♊': 55, '♎': 55, '♉': 57, '💆': 4, '🏒': 40, '🏝': 6, '🥃': 4, '🎙': 1, '🔝': 4, '🧖': 294, '👸': 10, '🛀': 4, '🌼': 99, '🍪': 23, '🤴': 3, '📺': 13, '🅾': 2, '🎯': 12, '💵': 27, '☹': 13, '🍤': 4, '🤟': 31, '💩': 36, '💇': 5, '📶': 3, '🎦': 3, '▫': 644, '🏁': 644, '😟': 38, '🎩': 2, '⏩': 49, '🔚': 32, '💿': 8, '🔄': 1, '⏪': 44, '🍸': 12, '🐧': 11, '🎵': 58, '🕕': 7, '📍': 17, '📉': 1, '🍻': 12, '😷': 6, '🐸': 19, '💉': 4, '⛓': 14, '🥀': 6, '🐺': 11, '⚖': 4, '💭': 11, '🚮': 9, '📻': 9, '👗': 10, '👢': 4, '♠': 152, '🇴': 68, '🥅': 18, '🕳': 3, '🌳': 30, '🦈': 2, '😼': 11, '👦': 13, '🏄': 16, '🐷': 2, '🔬': 3, '⤵': 11, '👎': 26, '🥉': 16, '🌋': 1, '🚳': 7, '🚯': 7, '🚭': 7, '🍕': 96, '📢': 8, '🔨': 17, '🌤': 2, '🇫': 33, '🎞': 1, '🤰': 3, '🕉': 12, '🍋': 1, '🐹': 8, '📊': 6, '🛫': 4, '🍷': 46, '🥂': 39, '🎣': 2, '🌬': 8, '🕯': 19, '🍇': 27, '📥': 14, '🏦': 14, '🐴': 21, '👪': 2, '👯': 7, '🥞': 8, '⚜': 36, '🔱': 28, '🚫': 13, '🐽': 8, '😮': 9, '🦉': 4, '🥚': 2, '🐢': 3, '🔜': 19, '🕸': 71, '⏭': 5, '🌶': 5, '☮': 27, '💟': 44, '📣': 107, '🔸': 49, '◼': 1, '🗓': 6, '👽': 11, '👿': 4, '🇳': 465, '📳': 8, '🧗': 2, '🔗': 5, '🤑': 6, '🛰': 4, '🇰': 495, '🎢': 1, '🎡': 1, '🤡': 4, '🛎': 3, '🎹': 2, '🦍': 5, '😑': 2, '🙈': 21, '🆚': 60, '🥔': 1, '📎': 2, '🎟': 17, '✴': 5, '👫': 14, '✖': 26, '🐳': 14, '🧞': 26, '🍔': 25, '🍱': 14, '🍫': 22, '🖐': 100, '🗜': 3, '🐿': 3, '⁉': 2, '🌍': 16, '🌏': 7, '🧘': 5, '⛽': 7, '☑': 52, '👣': 1, '🚒': 6, '🛑': 8, '✋': 8, '🌮': 3, '🤓': 13, '⌚': 2, '🍅': 4, '🐭': 2, '🦇': 1, '⭕': 1, '🎃': 8, '🍭': 4, '🍬': 6, '🌂': 11, '⛏': 11, '🏈': 5, '⛹': 1, '🙊': 4, '🥈': 20, '🍄': 68, '🍟': 79, '📲': 14, '🌽': 2, '🏮': 2, '🏇': 2, '💲': 12, '👥': 9, '👐': 2, '🛡': 7, '🍿': 1, '🛌': 11, '🍽': 19, '✳': 57, '🧜': 4, '🌾': 1, '🔀': 6, '🎖': 16, '🏅': 16, '🏳': 2, '🐈': 5, '🍙': 5, '🍘': 3, '🐓': 1, '🦁': 6, '🍳': 13, '🍣': 1, '🦐': 1, '📆': 2, '🔍': 1, '👕': 5, '🚘': 2, '🎸': 3, '📱': 26, '🐘': 9, '🍓': 6, '🍎': 9, '🐕': 2, '🧝': 14, '🧚': 62, '〽': 16, '🏋': 3, '🛬': 4, '💠': 12, '🆗': 54, '🐅': 3, '🦒': 5, '🧒': 9, '❕': 40, '👮': 2, '🐇': 6, '🛍': 192, '😲': 13, '☔': 8, '🌯': 4, '⬆': 2, '🤒': 2, '🗽': 1, '⛱': 2, '👓': 1, '✉': 1, '🥄': 1, '🐉': 2, '🥓': 5, '🥊': 2, '🔳': 39, '🆓': 39, '🔙': 15, '🎱': 28, '📖': 21, '👒': 2, '😖': 5, '🆒': 3, 'ℹ': 5, '🍨': 4, '🗡': 2, '😠': 6, '🔇': 2, '🔉': 2, '🔷': 4, '📰': 3, '🐨': 1, '🔛': 6, '🇻': 11, '💬': 1, '💺': 11, '☃': 19, '⛄': 1, '🚴': 4, '🚣': 2, '🦖': 2, '🤖': 4, '🖊': 4, '🇼': 17, '🎋': 9, '🧠': 1, '🕊': 26, '🙉': 1, '🌪': 3, '🖍': 2, '✏': 5, '🐛': 2, '🐝': 8, '🏉': 8, '⛈': 2, '🦏': 2, '🌐': 1, '🐒': 8, '🗺': 2, '🚪': 1, '🤛': 1, '📮': 1, '☎': 1, '💂': 4, '🐎': 10, '🦊': 5, '🥖': 5, '🍰': 5, '🔻': 80, '🔺': 26, '🚽': 2, '👭': 8, '🌲': 9, '🍜': 2, '🦎': 1, '📬': 5, '🕷': 6, '🐚': 10, '🥛': 4, '🏏': 2, '🌫': 1, '🍍': 3, '🙁': 1, '🔶': 5, '🔈': 2, '🤾': 2, '🌀': 6, '🛩': 1})"
      ]
     },
     "execution_count": 17,
     "metadata": {},
     "output_type": "execute_result"
    }
   ],
   "source": [
    "emoji_w_g.degree(weight='weight')\n",
    "# emoji_w_g.degree(weight='weight').items()"
   ]
  },
  {
   "cell_type": "code",
   "execution_count": 142,
   "metadata": {},
   "outputs": [
    {
     "name": "stdout",
     "output_type": "stream",
     "text": [
      "[35.91993957703927, 443.4, 688.3076923076923, 1090.8333333333333, 1343.5, 1700.3333333333333, 2179.0, 2993.0]\n"
     ]
    },
    {
     "name": "stderr",
     "output_type": "stream",
     "text": [
      "Calculating best minimal value for power law fit\n"
     ]
    },
    {
     "data": {
      "image/png": "[encoded data removed]",
      "text/plain": [
       "<Figure size 432x288 with 1 Axes>"
      ]
     },
     "metadata": {
      "needs_background": "light"
     },
     "output_type": "display_data"
    }
   ],
   "source": [
    "# def binned_data(deg_list):\n",
    "#     n_bucket = 10\n",
    "    \n",
    "import numpy as np\n",
    "from scipy.stats import binned_statistic\n",
    "import math\n",
    "\n",
    "\n",
    "\n",
    "import powerlaw\n",
    "\n",
    "degrees = [emoji_w_g.degree(n, weight = 'weight') for n in emoji_w_g.nodes()]\n",
    "\n",
    "bin_means = binned_statistic(degrees, degrees, bins=10)[0]\n",
    "bin_means = [i for i in bin_means if not math.isnan(i)]\n",
    "print(bin_means)\n",
    "\n",
    "fit = powerlaw.Fit(degrees)\n",
    "# fit.power_law.alpha\n",
    "# fit.power_law.sigma\n",
    "# fit.distribution_compare('power_law', 'exponential')\n",
    "\n",
    "\n",
    "\n",
    "# powerlaw.plot_pdf(degrees, color = 'b')\n",
    "# powerlaw.plot_pdf(degrees, linear_bins = True, color = 'r')\n",
    "\n",
    "# fig2 = fit.plot_pdf(color = 'b', linewidth = 2)\n",
    "# fit.power_law.plot_pdf(color = 'b', linestyle = '-', ax = fig2)\n",
    "# fit.plot_ccdf(color = 'r', linewidth = 2, ax = fig2)\n",
    "# fit.power_law.plot_ccdf(color = 'r', linestyle = '-', ax = fig2)\n",
    "\n",
    "# x, y = fit.cdf()\n",
    "# bin_edges, probability = fit.pdf()\n",
    "# y = fit.lognormal.cdf(degress = [300, 350])\n",
    "# y = fit.lognormal.pdf()\n",
    "\n",
    "# Scaling Range:\n",
    "# fit.xmin\n",
    "# fit.fixed_xmin\n",
    "# fit.power_law.D\n",
    "# fit = powerlaw.Fit(degrees, xmin = 1.0)\n",
    "# fit.xmin\n",
    "# fit.fixed_xmin\n",
    "# fit.power_law.alpha\n",
    "# fit.power_law.D\n",
    "\n",
    "\n",
    "# fit = powerlaw.Fit(degrees, xmin = 1.0, xmax = 3000)\n",
    "# fit.xmin\n",
    "# fit.fixed_xmin\n",
    "# fit.power_law.alpha\n",
    "# fit.power_law.D\n",
    "# # powerlaw.plot_pdf(degrees, color = 'b')\n",
    "# fit.lognormal.mu\n",
    "\n",
    "R, p = fit.distribution_compare('power_law', 'exponential', normalized_ratio = True)\n",
    "# Plot:\n",
    "fig4 = fit.plot_ccdf(linewidth=1, marker = 'o', markersize=3)\n",
    "fit.power_law.plot_ccdf(ax = fig4, color = 'r', linestyle = '-', linewidth=.7)\n",
    "fit.exponential.plot_ccdf(ax = fig4, color = 'y', linestyle = '-', linewidth=.7)\n",
    "fit.lognormal.plot_ccdf(ax = fig4, color = 'g', linestyle = '-', linewidth=.7)\n",
    "fit.truncated_power_law.plot_ccdf(ax = fig4, color = 'pink', linestyle = '-', linewidth=.7)\n",
    "fit.stretched_exponential.plot_ccdf(ax = fig4, color = 'gray', linestyle = '-', linewidth=.7)\n",
    "\n",
    "plt.ylim(-10000000, 0)    \n",
    "plt.xlim(0, 5000) \n",
    "plt.xlabel(\"Degree\") \n",
    "plt.ylabel(\"p(x)\") \n",
    "plt.legend(['Degrees','Power-law fit','Exponential fit','Logarithm fit',\n",
    "            'Truncated Power-law fit','Stretched Exponential fit'])\n",
    "plt.savefig('1.jpg')"
   ]
  },
  {
   "cell_type": "markdown",
   "metadata": {},
   "source": [
    "Try to detect communities for the network:"
   ]
  },
  {
   "cell_type": "code",
   "execution_count": 13,
   "metadata": {},
   "outputs": [
    {
     "data": {
      "text/plain": [
       "<generator object girvan_newman at 0x00000267477698B8>"
      ]
     },
     "execution_count": 13,
     "metadata": {},
     "output_type": "execute_result"
    }
   ],
   "source": [
    "# Finds communities in a graph using the Girvan–Newman method.\n",
    "from networkx.algorithms import community\n",
    "\n",
    "communities_generator = community.girvan_newman(G)\n",
    "communities_generator"
   ]
  },
  {
   "cell_type": "code",
   "execution_count": 14,
   "metadata": {},
   "outputs": [
    {
     "ename": "KeyboardInterrupt",
     "evalue": "",
     "output_type": "error",
     "traceback": [
      "\u001b[1;31m---------------------------------------------------------------------------\u001b[0m",
      "\u001b[1;31mKeyboardInterrupt\u001b[0m                         Traceback (most recent call last)",
      "\u001b[1;32m<ipython-input-14-5ce00023d980>\u001b[0m in \u001b[0;36m<module>\u001b[1;34m\u001b[0m\n\u001b[0;32m      3\u001b[0m \u001b[0mk\u001b[0m \u001b[1;33m=\u001b[0m \u001b[1;36m10\u001b[0m\u001b[1;33m\u001b[0m\u001b[1;33m\u001b[0m\u001b[0m\n\u001b[0;32m      4\u001b[0m \u001b[1;31m# communities_generator = girvan_newman(g)\u001b[0m\u001b[1;33m\u001b[0m\u001b[1;33m\u001b[0m\u001b[1;33m\u001b[0m\u001b[0m\n\u001b[1;32m----> 5\u001b[1;33m \u001b[1;32mfor\u001b[0m \u001b[0mi\u001b[0m\u001b[1;33m,\u001b[0m\u001b[0mcommunities\u001b[0m \u001b[1;32min\u001b[0m \u001b[0menumerate\u001b[0m\u001b[1;33m(\u001b[0m\u001b[0mitertools\u001b[0m\u001b[1;33m.\u001b[0m\u001b[0mislice\u001b[0m\u001b[1;33m(\u001b[0m\u001b[0mcommunities_generator\u001b[0m\u001b[1;33m,\u001b[0m\u001b[0mk\u001b[0m\u001b[1;33m)\u001b[0m\u001b[1;33m)\u001b[0m\u001b[1;33m:\u001b[0m\u001b[1;33m\u001b[0m\u001b[1;33m\u001b[0m\u001b[0m\n\u001b[0m\u001b[0;32m      6\u001b[0m     \u001b[0mprint\u001b[0m\u001b[1;33m(\u001b[0m\u001b[1;34mf\"round {i} split...\"\u001b[0m\u001b[1;33m)\u001b[0m\u001b[1;33m\u001b[0m\u001b[1;33m\u001b[0m\u001b[0m\n\u001b[0;32m      7\u001b[0m     \u001b[0mcomm_tup\u001b[0m \u001b[1;33m=\u001b[0m \u001b[0mtuple\u001b[0m\u001b[1;33m(\u001b[0m\u001b[0msorted\u001b[0m\u001b[1;33m(\u001b[0m\u001b[0mc\u001b[0m\u001b[1;33m)\u001b[0m \u001b[1;32mfor\u001b[0m \u001b[0mc\u001b[0m \u001b[1;32min\u001b[0m \u001b[0mcommunities\u001b[0m\u001b[1;33m)\u001b[0m\u001b[1;33m\u001b[0m\u001b[1;33m\u001b[0m\u001b[0m\n",
      "\u001b[1;32mc:\\users\\administrator\\appdata\\local\\programs\\python\\python37\\lib\\site-packages\\networkx\\algorithms\\community\\centrality.py\u001b[0m in \u001b[0;36mgirvan_newman\u001b[1;34m(G, most_valuable_edge)\u001b[0m\n\u001b[0;32m    152\u001b[0m     \u001b[0mg\u001b[0m\u001b[1;33m.\u001b[0m\u001b[0mremove_edges_from\u001b[0m\u001b[1;33m(\u001b[0m\u001b[0mnx\u001b[0m\u001b[1;33m.\u001b[0m\u001b[0mselfloop_edges\u001b[0m\u001b[1;33m(\u001b[0m\u001b[0mg\u001b[0m\u001b[1;33m)\u001b[0m\u001b[1;33m)\u001b[0m\u001b[1;33m\u001b[0m\u001b[1;33m\u001b[0m\u001b[0m\n\u001b[0;32m    153\u001b[0m     \u001b[1;32mwhile\u001b[0m \u001b[0mg\u001b[0m\u001b[1;33m.\u001b[0m\u001b[0mnumber_of_edges\u001b[0m\u001b[1;33m(\u001b[0m\u001b[1;33m)\u001b[0m \u001b[1;33m>\u001b[0m \u001b[1;36m0\u001b[0m\u001b[1;33m:\u001b[0m\u001b[1;33m\u001b[0m\u001b[1;33m\u001b[0m\u001b[0m\n\u001b[1;32m--> 154\u001b[1;33m         \u001b[1;32myield\u001b[0m \u001b[0m_without_most_central_edges\u001b[0m\u001b[1;33m(\u001b[0m\u001b[0mg\u001b[0m\u001b[1;33m,\u001b[0m \u001b[0mmost_valuable_edge\u001b[0m\u001b[1;33m)\u001b[0m\u001b[1;33m\u001b[0m\u001b[1;33m\u001b[0m\u001b[0m\n\u001b[0m\u001b[0;32m    155\u001b[0m \u001b[1;33m\u001b[0m\u001b[0m\n\u001b[0;32m    156\u001b[0m \u001b[1;33m\u001b[0m\u001b[0m\n",
      "\u001b[1;32mc:\\users\\administrator\\appdata\\local\\programs\\python\\python37\\lib\\site-packages\\networkx\\algorithms\\community\\centrality.py\u001b[0m in \u001b[0;36m_without_most_central_edges\u001b[1;34m(G, most_valuable_edge)\u001b[0m\n\u001b[0;32m    171\u001b[0m     \u001b[0mnum_new_components\u001b[0m \u001b[1;33m=\u001b[0m \u001b[0moriginal_num_components\u001b[0m\u001b[1;33m\u001b[0m\u001b[1;33m\u001b[0m\u001b[0m\n\u001b[0;32m    172\u001b[0m     \u001b[1;32mwhile\u001b[0m \u001b[0mnum_new_components\u001b[0m \u001b[1;33m<=\u001b[0m \u001b[0moriginal_num_components\u001b[0m\u001b[1;33m:\u001b[0m\u001b[1;33m\u001b[0m\u001b[1;33m\u001b[0m\u001b[0m\n\u001b[1;32m--> 173\u001b[1;33m         \u001b[0medge\u001b[0m \u001b[1;33m=\u001b[0m \u001b[0mmost_valuable_edge\u001b[0m\u001b[1;33m(\u001b[0m\u001b[0mG\u001b[0m\u001b[1;33m)\u001b[0m\u001b[1;33m\u001b[0m\u001b[1;33m\u001b[0m\u001b[0m\n\u001b[0m\u001b[0;32m    174\u001b[0m         \u001b[0mG\u001b[0m\u001b[1;33m.\u001b[0m\u001b[0mremove_edge\u001b[0m\u001b[1;33m(\u001b[0m\u001b[1;33m*\u001b[0m\u001b[0medge\u001b[0m\u001b[1;33m)\u001b[0m\u001b[1;33m\u001b[0m\u001b[1;33m\u001b[0m\u001b[0m\n\u001b[0;32m    175\u001b[0m         \u001b[0mnew_components\u001b[0m \u001b[1;33m=\u001b[0m \u001b[0mtuple\u001b[0m\u001b[1;33m(\u001b[0m\u001b[0mnx\u001b[0m\u001b[1;33m.\u001b[0m\u001b[0mconnected_components\u001b[0m\u001b[1;33m(\u001b[0m\u001b[0mG\u001b[0m\u001b[1;33m)\u001b[0m\u001b[1;33m)\u001b[0m\u001b[1;33m\u001b[0m\u001b[1;33m\u001b[0m\u001b[0m\n",
      "\u001b[1;32mc:\\users\\administrator\\appdata\\local\\programs\\python\\python37\\lib\\site-packages\\networkx\\algorithms\\community\\centrality.py\u001b[0m in \u001b[0;36mmost_valuable_edge\u001b[1;34m(G)\u001b[0m\n\u001b[0;32m    144\u001b[0m             \u001b[1;31m# We have guaranteed that the graph is non-empty, so this\u001b[0m\u001b[1;33m\u001b[0m\u001b[1;33m\u001b[0m\u001b[1;33m\u001b[0m\u001b[0m\n\u001b[0;32m    145\u001b[0m             \u001b[1;31m# dictionary will never be empty.\u001b[0m\u001b[1;33m\u001b[0m\u001b[1;33m\u001b[0m\u001b[1;33m\u001b[0m\u001b[0m\n\u001b[1;32m--> 146\u001b[1;33m             \u001b[0mbetweenness\u001b[0m \u001b[1;33m=\u001b[0m \u001b[0mnx\u001b[0m\u001b[1;33m.\u001b[0m\u001b[0medge_betweenness_centrality\u001b[0m\u001b[1;33m(\u001b[0m\u001b[0mG\u001b[0m\u001b[1;33m)\u001b[0m\u001b[1;33m\u001b[0m\u001b[1;33m\u001b[0m\u001b[0m\n\u001b[0m\u001b[0;32m    147\u001b[0m             \u001b[1;32mreturn\u001b[0m \u001b[0mmax\u001b[0m\u001b[1;33m(\u001b[0m\u001b[0mbetweenness\u001b[0m\u001b[1;33m,\u001b[0m \u001b[0mkey\u001b[0m\u001b[1;33m=\u001b[0m\u001b[0mbetweenness\u001b[0m\u001b[1;33m.\u001b[0m\u001b[0mget\u001b[0m\u001b[1;33m)\u001b[0m\u001b[1;33m\u001b[0m\u001b[1;33m\u001b[0m\u001b[0m\n\u001b[0;32m    148\u001b[0m     \u001b[1;31m# The copy of G here must include the edge weight data.\u001b[0m\u001b[1;33m\u001b[0m\u001b[1;33m\u001b[0m\u001b[1;33m\u001b[0m\u001b[0m\n",
      "\u001b[1;32m<c:\\users\\administrator\\appdata\\local\\programs\\python\\python37\\lib\\site-packages\\decorator.py:decorator-gen-232>\u001b[0m in \u001b[0;36medge_betweenness_centrality\u001b[1;34m(G, k, normalized, weight, seed)\u001b[0m\n",
      "\u001b[1;32mc:\\users\\administrator\\appdata\\local\\programs\\python\\python37\\lib\\site-packages\\networkx\\utils\\decorators.py\u001b[0m in \u001b[0;36m_random_state\u001b[1;34m(func, *args, **kwargs)\u001b[0m\n\u001b[0;32m    462\u001b[0m         \u001b[0mnew_args\u001b[0m \u001b[1;33m=\u001b[0m \u001b[0mlist\u001b[0m\u001b[1;33m(\u001b[0m\u001b[0margs\u001b[0m\u001b[1;33m)\u001b[0m\u001b[1;33m\u001b[0m\u001b[1;33m\u001b[0m\u001b[0m\n\u001b[0;32m    463\u001b[0m         \u001b[0mnew_args\u001b[0m\u001b[1;33m[\u001b[0m\u001b[0mrandom_state_index\u001b[0m\u001b[1;33m]\u001b[0m \u001b[1;33m=\u001b[0m \u001b[0mrandom_state\u001b[0m\u001b[1;33m\u001b[0m\u001b[1;33m\u001b[0m\u001b[0m\n\u001b[1;32m--> 464\u001b[1;33m         \u001b[1;32mreturn\u001b[0m \u001b[0mfunc\u001b[0m\u001b[1;33m(\u001b[0m\u001b[1;33m*\u001b[0m\u001b[0mnew_args\u001b[0m\u001b[1;33m,\u001b[0m \u001b[1;33m**\u001b[0m\u001b[0mkwargs\u001b[0m\u001b[1;33m)\u001b[0m\u001b[1;33m\u001b[0m\u001b[1;33m\u001b[0m\u001b[0m\n\u001b[0m\u001b[0;32m    465\u001b[0m     \u001b[1;32mreturn\u001b[0m \u001b[0m_random_state\u001b[0m\u001b[1;33m\u001b[0m\u001b[1;33m\u001b[0m\u001b[0m\n",
      "\u001b[1;32mc:\\users\\administrator\\appdata\\local\\programs\\python\\python37\\lib\\site-packages\\networkx\\algorithms\\centrality\\betweenness.py\u001b[0m in \u001b[0;36medge_betweenness_centrality\u001b[1;34m(G, k, normalized, weight, seed)\u001b[0m\n\u001b[0;32m    213\u001b[0m             \u001b[0mS\u001b[0m\u001b[1;33m,\u001b[0m \u001b[0mP\u001b[0m\u001b[1;33m,\u001b[0m \u001b[0msigma\u001b[0m \u001b[1;33m=\u001b[0m \u001b[0m_single_source_dijkstra_path_basic\u001b[0m\u001b[1;33m(\u001b[0m\u001b[0mG\u001b[0m\u001b[1;33m,\u001b[0m \u001b[0ms\u001b[0m\u001b[1;33m,\u001b[0m \u001b[0mweight\u001b[0m\u001b[1;33m)\u001b[0m\u001b[1;33m\u001b[0m\u001b[1;33m\u001b[0m\u001b[0m\n\u001b[0;32m    214\u001b[0m         \u001b[1;31m# accumulation\u001b[0m\u001b[1;33m\u001b[0m\u001b[1;33m\u001b[0m\u001b[1;33m\u001b[0m\u001b[0m\n\u001b[1;32m--> 215\u001b[1;33m         \u001b[0mbetweenness\u001b[0m \u001b[1;33m=\u001b[0m \u001b[0m_accumulate_edges\u001b[0m\u001b[1;33m(\u001b[0m\u001b[0mbetweenness\u001b[0m\u001b[1;33m,\u001b[0m \u001b[0mS\u001b[0m\u001b[1;33m,\u001b[0m \u001b[0mP\u001b[0m\u001b[1;33m,\u001b[0m \u001b[0msigma\u001b[0m\u001b[1;33m,\u001b[0m \u001b[0ms\u001b[0m\u001b[1;33m)\u001b[0m\u001b[1;33m\u001b[0m\u001b[1;33m\u001b[0m\u001b[0m\n\u001b[0m\u001b[0;32m    216\u001b[0m     \u001b[1;31m# rescaling\u001b[0m\u001b[1;33m\u001b[0m\u001b[1;33m\u001b[0m\u001b[1;33m\u001b[0m\u001b[0m\n\u001b[0;32m    217\u001b[0m     \u001b[1;32mfor\u001b[0m \u001b[0mn\u001b[0m \u001b[1;32min\u001b[0m \u001b[0mG\u001b[0m\u001b[1;33m:\u001b[0m  \u001b[1;31m# remove nodes to only return edges\u001b[0m\u001b[1;33m\u001b[0m\u001b[1;33m\u001b[0m\u001b[0m\n",
      "\u001b[1;32mc:\\users\\administrator\\appdata\\local\\programs\\python\\python37\\lib\\site-packages\\networkx\\algorithms\\centrality\\betweenness.py\u001b[0m in \u001b[0;36m_accumulate_edges\u001b[1;34m(betweenness, S, P, sigma, s)\u001b[0m\n\u001b[0;32m    325\u001b[0m                 \u001b[0mbetweenness\u001b[0m\u001b[1;33m[\u001b[0m\u001b[1;33m(\u001b[0m\u001b[0mw\u001b[0m\u001b[1;33m,\u001b[0m \u001b[0mv\u001b[0m\u001b[1;33m)\u001b[0m\u001b[1;33m]\u001b[0m \u001b[1;33m+=\u001b[0m \u001b[0mc\u001b[0m\u001b[1;33m\u001b[0m\u001b[1;33m\u001b[0m\u001b[0m\n\u001b[0;32m    326\u001b[0m             \u001b[1;32melse\u001b[0m\u001b[1;33m:\u001b[0m\u001b[1;33m\u001b[0m\u001b[1;33m\u001b[0m\u001b[0m\n\u001b[1;32m--> 327\u001b[1;33m                 \u001b[0mbetweenness\u001b[0m\u001b[1;33m[\u001b[0m\u001b[1;33m(\u001b[0m\u001b[0mv\u001b[0m\u001b[1;33m,\u001b[0m \u001b[0mw\u001b[0m\u001b[1;33m)\u001b[0m\u001b[1;33m]\u001b[0m \u001b[1;33m+=\u001b[0m \u001b[0mc\u001b[0m\u001b[1;33m\u001b[0m\u001b[1;33m\u001b[0m\u001b[0m\n\u001b[0m\u001b[0;32m    328\u001b[0m             \u001b[0mdelta\u001b[0m\u001b[1;33m[\u001b[0m\u001b[0mv\u001b[0m\u001b[1;33m]\u001b[0m \u001b[1;33m+=\u001b[0m \u001b[0mc\u001b[0m\u001b[1;33m\u001b[0m\u001b[1;33m\u001b[0m\u001b[0m\n\u001b[0;32m    329\u001b[0m         \u001b[1;32mif\u001b[0m \u001b[0mw\u001b[0m \u001b[1;33m!=\u001b[0m \u001b[0ms\u001b[0m\u001b[1;33m:\u001b[0m\u001b[1;33m\u001b[0m\u001b[1;33m\u001b[0m\u001b[0m\n",
      "\u001b[1;31mKeyboardInterrupt\u001b[0m: "
     ]
    }
   ],
   "source": [
    "import itertools\n",
    "\n",
    "k = 10\n",
    "# communities_generator = girvan_newman(g)\n",
    "for i,communities in enumerate(itertools.islice(communities_generator,k)):\n",
    "    print(f\"round {i} split...\")\n",
    "    comm_tup = tuple(sorted(c) for c in communities)\n",
    "    print(\"    community tuples:\", comm_tup)  \n",
    "    print(\"    number of communities:\", len(comm_tup))\n",
    "    print(\"    max community size:\", max([len(x) for x in comm_tup]))"
   ]
  },
  {
   "cell_type": "code",
   "execution_count": 16,
   "metadata": {},
   "outputs": [
    {
     "name": "stdout",
     "output_type": "stream",
     "text": [
      "The number of communities is:  7\n"
     ]
    },
    {
     "data": {
      "text/plain": [
       "[frozenset({'©',\n",
       "            '®',\n",
       "            '‼',\n",
       "            '⁉',\n",
       "            '™',\n",
       "            'ℹ',\n",
       "            '↘',\n",
       "            '⌚',\n",
       "            '⏩',\n",
       "            '⏪',\n",
       "            '⏬',\n",
       "            '⏭',\n",
       "            '⏮',\n",
       "            '⏰',\n",
       "            '⏱',\n",
       "            '⏳',\n",
       "            '⏺',\n",
       "            'Ⓜ',\n",
       "            '▪',\n",
       "            '▫',\n",
       "            '▶',\n",
       "            '◀',\n",
       "            '◻',\n",
       "            '◼',\n",
       "            '◾',\n",
       "            '☀',\n",
       "            '☁',\n",
       "            '☃',\n",
       "            '☄',\n",
       "            '☑',\n",
       "            '☔',\n",
       "            '☕',\n",
       "            '☘',\n",
       "            '☝',\n",
       "            '☠',\n",
       "            '☮',\n",
       "            '☯',\n",
       "            '☹',\n",
       "            '☺',\n",
       "            '♀',\n",
       "            '♂',\n",
       "            '♈',\n",
       "            '♉',\n",
       "            '♊',\n",
       "            '♌',\n",
       "            '♎',\n",
       "            '♐',\n",
       "            '♒',\n",
       "            '♠',\n",
       "            '♥',\n",
       "            '♦',\n",
       "            '♨',\n",
       "            '♻',\n",
       "            '⚓',\n",
       "            '⚔',\n",
       "            '⚖',\n",
       "            '⚜',\n",
       "            '⚠',\n",
       "            '⚡',\n",
       "            '⚪',\n",
       "            '⚫',\n",
       "            '⚽',\n",
       "            '⚾',\n",
       "            '⛄',\n",
       "            '⛈',\n",
       "            '⛏',\n",
       "            '⛓',\n",
       "            '⛱',\n",
       "            '⛳',\n",
       "            '⛹',\n",
       "            '⛽',\n",
       "            '✅',\n",
       "            '✈',\n",
       "            '✉',\n",
       "            '✊',\n",
       "            '✋',\n",
       "            '✌',\n",
       "            '✍',\n",
       "            '✏',\n",
       "            '✔',\n",
       "            '✖',\n",
       "            '✝',\n",
       "            '✨',\n",
       "            '✳',\n",
       "            '✴',\n",
       "            '❄',\n",
       "            '❌',\n",
       "            '❓',\n",
       "            '❕',\n",
       "            '❗',\n",
       "            '❣',\n",
       "            '❤',\n",
       "            '➕',\n",
       "            '➖',\n",
       "            '➡',\n",
       "            '⤵',\n",
       "            '⬅',\n",
       "            '⬆',\n",
       "            '⬇',\n",
       "            '⭐',\n",
       "            '⭕',\n",
       "            '〰',\n",
       "            '〽',\n",
       "            '🅰',\n",
       "            '🅱',\n",
       "            '🅾',\n",
       "            '🅿',\n",
       "            '🆒',\n",
       "            '🆓',\n",
       "            '🆕',\n",
       "            '🆗',\n",
       "            '🆘',\n",
       "            '🆚',\n",
       "            '🇦',\n",
       "            '🇧',\n",
       "            '🇨',\n",
       "            '🇩',\n",
       "            '🇪',\n",
       "            '🇫',\n",
       "            '🇬',\n",
       "            '🇭',\n",
       "            '🇮',\n",
       "            '🇯',\n",
       "            '🇰',\n",
       "            '🇱',\n",
       "            '🇲',\n",
       "            '🇳',\n",
       "            '🇴',\n",
       "            '🇵',\n",
       "            '🇷',\n",
       "            '🇸',\n",
       "            '🇹',\n",
       "            '🇺',\n",
       "            '🇻',\n",
       "            '🇼',\n",
       "            '🇽',\n",
       "            '🇾',\n",
       "            '🌀',\n",
       "            '🌂',\n",
       "            '🌆',\n",
       "            '🌈',\n",
       "            '🌊',\n",
       "            '🌋',\n",
       "            '🌍',\n",
       "            '🌎',\n",
       "            '🌏',\n",
       "            '🌐',\n",
       "            '🌒',\n",
       "            '🌕',\n",
       "            '🌘',\n",
       "            '🌙',\n",
       "            '🌚',\n",
       "            '🌛',\n",
       "            '🌜',\n",
       "            '🌝',\n",
       "            '🌞',\n",
       "            '🌟',\n",
       "            '🌠',\n",
       "            '🌤',\n",
       "            '🌧',\n",
       "            '🌪',\n",
       "            '🌫',\n",
       "            '🌬',\n",
       "            '🌮',\n",
       "            '🌯',\n",
       "            '🌱',\n",
       "            '🌲',\n",
       "            '🌳',\n",
       "            '🌴',\n",
       "            '🌶',\n",
       "            '🌷',\n",
       "            '🌸',\n",
       "            '🌹',\n",
       "            '🌺',\n",
       "            '🌻',\n",
       "            '🌼',\n",
       "            '🌽',\n",
       "            '🌾',\n",
       "            '🌿',\n",
       "            '🍀',\n",
       "            '🍁',\n",
       "            '🍂',\n",
       "            '🍃',\n",
       "            '🍄',\n",
       "            '🍅',\n",
       "            '🍆',\n",
       "            '🍇',\n",
       "            '🍉',\n",
       "            '🍊',\n",
       "            '🍋',\n",
       "            '🍌',\n",
       "            '🍍',\n",
       "            '🍎',\n",
       "            '🍏',\n",
       "            '🍑',\n",
       "            '🍒',\n",
       "            '🍓',\n",
       "            '🍔',\n",
       "            '🍕',\n",
       "            '🍗',\n",
       "            '🍘',\n",
       "            '🍙',\n",
       "            '🍜',\n",
       "            '🍟',\n",
       "            '🍤',\n",
       "            '🍦',\n",
       "            '🍧',\n",
       "            '🍨',\n",
       "            '🍩',\n",
       "            '🍪',\n",
       "            '🍫',\n",
       "            '🍬',\n",
       "            '🍭',\n",
       "            '🍯',\n",
       "            '🍰',\n",
       "            '🍱',\n",
       "            '🍳',\n",
       "            '🍵',\n",
       "            '🍷',\n",
       "            '🍸',\n",
       "            '🍹',\n",
       "            '🍺',\n",
       "            '🍻',\n",
       "            '🍼',\n",
       "            '🍽',\n",
       "            '🍾',\n",
       "            '🍿',\n",
       "            '🎀',\n",
       "            '🎁',\n",
       "            '🎂',\n",
       "            '🎃',\n",
       "            '🎆',\n",
       "            '🎈',\n",
       "            '🎉',\n",
       "            '🎊',\n",
       "            '🎋',\n",
       "            '🎒',\n",
       "            '🎓',\n",
       "            '🎖',\n",
       "            '🎙',\n",
       "            '🎚',\n",
       "            '🎞',\n",
       "            '🎟',\n",
       "            '🎣',\n",
       "            '🎤',\n",
       "            '🎥',\n",
       "            '🎦',\n",
       "            '🎧',\n",
       "            '🎨',\n",
       "            '🎩',\n",
       "            '🎪',\n",
       "            '🎬',\n",
       "            '🎭',\n",
       "            '🎮',\n",
       "            '🎯',\n",
       "            '🎱',\n",
       "            '🎲',\n",
       "            '🎵',\n",
       "            '🎶',\n",
       "            '🎸',\n",
       "            '🎹',\n",
       "            '🎼',\n",
       "            '🏀',\n",
       "            '🏁',\n",
       "            '🏂',\n",
       "            '🏃',\n",
       "            '🏄',\n",
       "            '🏅',\n",
       "            '🏆',\n",
       "            '🏈',\n",
       "            '🏉',\n",
       "            '🏊',\n",
       "            '🏋',\n",
       "            '🏌',\n",
       "            '🏏',\n",
       "            '🏐',\n",
       "            '🏒',\n",
       "            '🏘',\n",
       "            '🏙',\n",
       "            '🏝',\n",
       "            '🏠',\n",
       "            '🏡',\n",
       "            '🏦',\n",
       "            '🏨',\n",
       "            '🏫',\n",
       "            '🏳',\n",
       "            '🏴',\n",
       "            '🏻',\n",
       "            '🏼',\n",
       "            '🏽',\n",
       "            '🏾',\n",
       "            '🏿',\n",
       "            '🐅',\n",
       "            '🐇',\n",
       "            '🐈',\n",
       "            '🐉',\n",
       "            '🐍',\n",
       "            '🐎',\n",
       "            '🐐',\n",
       "            '🐒',\n",
       "            '🐓',\n",
       "            '🐕',\n",
       "            '🐘',\n",
       "            '🐚',\n",
       "            '🐛',\n",
       "            '🐝',\n",
       "            '🐞',\n",
       "            '🐢',\n",
       "            '🐣',\n",
       "            '🐤',\n",
       "            '🐥',\n",
       "            '🐦',\n",
       "            '🐧',\n",
       "            '🐨',\n",
       "            '🐭',\n",
       "            '🐯',\n",
       "            '🐰',\n",
       "            '🐱',\n",
       "            '🐳',\n",
       "            '🐴',\n",
       "            '🐶',\n",
       "            '🐷',\n",
       "            '🐸',\n",
       "            '🐹',\n",
       "            '🐺',\n",
       "            '🐻',\n",
       "            '🐼',\n",
       "            '🐽',\n",
       "            '🐾',\n",
       "            '🐿',\n",
       "            '👀',\n",
       "            '👁',\n",
       "            '👂',\n",
       "            '👃',\n",
       "            '👄',\n",
       "            '👅',\n",
       "            '👆',\n",
       "            '👇',\n",
       "            '👈',\n",
       "            '👉',\n",
       "            '👊',\n",
       "            '👋',\n",
       "            '👌',\n",
       "            '👍',\n",
       "            '👎',\n",
       "            '👏',\n",
       "            '👐',\n",
       "            '👑',\n",
       "            '👒',\n",
       "            '👓',\n",
       "            '👔',\n",
       "            '👕',\n",
       "            '👗',\n",
       "            '👙',\n",
       "            '👠',\n",
       "            '👢',\n",
       "            '👣',\n",
       "            '👥',\n",
       "            '👦',\n",
       "            '👧',\n",
       "            '👨',\n",
       "            '👩',\n",
       "            '👪',\n",
       "            '👫',\n",
       "            '👭',\n",
       "            '👮',\n",
       "            '👯',\n",
       "            '👰',\n",
       "            '👱',\n",
       "            '👶',\n",
       "            '👸',\n",
       "            '👻',\n",
       "            '👼',\n",
       "            '👽',\n",
       "            '👾',\n",
       "            '👿',\n",
       "            '💀',\n",
       "            '💁',\n",
       "            '💂',\n",
       "            '💃',\n",
       "            '💄',\n",
       "            '💅',\n",
       "            '💆',\n",
       "            '💇',\n",
       "            '💉',\n",
       "            '💊',\n",
       "            '💋',\n",
       "            '💌',\n",
       "            '💍',\n",
       "            '💎',\n",
       "            '💏',\n",
       "            '💐',\n",
       "            '💑',\n",
       "            '💒',\n",
       "            '💓',\n",
       "            '💔',\n",
       "            '💕',\n",
       "            '💖',\n",
       "            '💗',\n",
       "            '💘',\n",
       "            '💙',\n",
       "            '💚',\n",
       "            '💛',\n",
       "            '💜',\n",
       "            '💝',\n",
       "            '💞',\n",
       "            '💟',\n",
       "            '💠',\n",
       "            '💡',\n",
       "            '💣',\n",
       "            '💤',\n",
       "            '💥',\n",
       "            '💦',\n",
       "            '💧',\n",
       "            '💨',\n",
       "            '💩',\n",
       "            '💪',\n",
       "            '💫',\n",
       "            '💬',\n",
       "            '💭',\n",
       "            '💯',\n",
       "            '💰',\n",
       "            '💲',\n",
       "            '💳',\n",
       "            '💵',\n",
       "            '💸',\n",
       "            '💺',\n",
       "            '💻',\n",
       "            '💼',\n",
       "            '💿',\n",
       "            '📅',\n",
       "            '📆',\n",
       "            '📈',\n",
       "            '📉',\n",
       "            '📊',\n",
       "            '📌',\n",
       "            '📍',\n",
       "            '📎',\n",
       "            '📖',\n",
       "            '📚',\n",
       "            '📝',\n",
       "            '📞',\n",
       "            '📢',\n",
       "            '📣',\n",
       "            '📥',\n",
       "            '📦',\n",
       "            '📬',\n",
       "            '📰',\n",
       "            '📱',\n",
       "            '📲',\n",
       "            '📳',\n",
       "            '📵',\n",
       "            '📶',\n",
       "            '📷',\n",
       "            '📸',\n",
       "            '📹',\n",
       "            '📺',\n",
       "            '📻',\n",
       "            '📽',\n",
       "            '🔀',\n",
       "            '🔁',\n",
       "            '🔂',\n",
       "            '🔃',\n",
       "            '🔄',\n",
       "            '🔇',\n",
       "            '🔈',\n",
       "            '🔉',\n",
       "            '🔊',\n",
       "            '🔌',\n",
       "            '🔍',\n",
       "            '🔐',\n",
       "            '🔔',\n",
       "            '🔗',\n",
       "            '🔙',\n",
       "            '🔚',\n",
       "            '🔛',\n",
       "            '🔜',\n",
       "            '🔝',\n",
       "            '🔞',\n",
       "            '🔥',\n",
       "            '🔨',\n",
       "            '🔪',\n",
       "            '🔫',\n",
       "            '🔬',\n",
       "            '🔮',\n",
       "            '🔱',\n",
       "            '🔳',\n",
       "            '🔴',\n",
       "            '🔵',\n",
       "            '🔶',\n",
       "            '🔷',\n",
       "            '🔸',\n",
       "            '🔹',\n",
       "            '🔺',\n",
       "            '🔻',\n",
       "            '🔽',\n",
       "            '🕉',\n",
       "            '🕊',\n",
       "            '🕑',\n",
       "            '🕕',\n",
       "            '🕙',\n",
       "            '🕯',\n",
       "            '🕰',\n",
       "            '🕳',\n",
       "            '🕷',\n",
       "            '🕸',\n",
       "            '🕺',\n",
       "            '🖊',\n",
       "            '🖍',\n",
       "            '🖐',\n",
       "            '🖕',\n",
       "            '🖖',\n",
       "            '🖤',\n",
       "            '🖥',\n",
       "            '🖼',\n",
       "            '🗓',\n",
       "            '🗜',\n",
       "            '🗡',\n",
       "            '🗣',\n",
       "            '🗳',\n",
       "            '🗺',\n",
       "            '🗽',\n",
       "            '😀',\n",
       "            '😁',\n",
       "            '😂',\n",
       "            '😃',\n",
       "            '😄',\n",
       "            '😅',\n",
       "            '😆',\n",
       "            '😇',\n",
       "            '😈',\n",
       "            '😉',\n",
       "            '😊',\n",
       "            '😋',\n",
       "            '😌',\n",
       "            '😍',\n",
       "            '😎',\n",
       "            '😏',\n",
       "            '😐',\n",
       "            '😑',\n",
       "            '😒',\n",
       "            '😓',\n",
       "            '😔',\n",
       "            '😕',\n",
       "            '😖',\n",
       "            '😗',\n",
       "            '😘',\n",
       "            '😙',\n",
       "            '😚',\n",
       "            '😛',\n",
       "            '😜',\n",
       "            '😝',\n",
       "            '😞',\n",
       "            '😟',\n",
       "            '😠',\n",
       "            '😡',\n",
       "            '😢',\n",
       "            '😣',\n",
       "            '😤',\n",
       "            '😥',\n",
       "            '😧',\n",
       "            '😩',\n",
       "            '😪',\n",
       "            '😫',\n",
       "            '😬',\n",
       "            '😭',\n",
       "            '😮',\n",
       "            '😯',\n",
       "            '😰',\n",
       "            '😱',\n",
       "            '😲',\n",
       "            '😳',\n",
       "            '😴',\n",
       "            '😵',\n",
       "            '😶',\n",
       "            '😷',\n",
       "            '😸',\n",
       "            '😹',\n",
       "            '😻',\n",
       "            '😼',\n",
       "            '😽',\n",
       "            '🙀',\n",
       "            '🙁',\n",
       "            '🙂',\n",
       "            '🙃',\n",
       "            '🙄',\n",
       "            '🙅',\n",
       "            '🙆',\n",
       "            '🙇',\n",
       "            '🙈',\n",
       "            '🙉',\n",
       "            '🙊',\n",
       "            '🙋',\n",
       "            '🙌',\n",
       "            '🙍',\n",
       "            '🙏',\n",
       "            '🚀',\n",
       "            '🚂',\n",
       "            '🚒',\n",
       "            '🚖',\n",
       "            '🚗',\n",
       "            '🚘',\n",
       "            '🚙',\n",
       "            '🚣',\n",
       "            '🚦',\n",
       "            '🚧',\n",
       "            '🚨',\n",
       "            '🚩',\n",
       "            '🚫',\n",
       "            '🚭',\n",
       "            '🚮',\n",
       "            '🚯',\n",
       "            '🚳',\n",
       "            '🚴',\n",
       "            '🚶',\n",
       "            '🚹',\n",
       "            '🚽',\n",
       "            '🛀',\n",
       "            '🛌',\n",
       "            '🛍',\n",
       "            '🛎',\n",
       "            '🛑',\n",
       "            '🛡',\n",
       "            '🛩',\n",
       "            '🛫',\n",
       "            '🛬',\n",
       "            '🛰',\n",
       "            '🤐',\n",
       "            '🤑',\n",
       "            '🤒',\n",
       "            '🤓',\n",
       "            '🤔',\n",
       "            '🤖',\n",
       "            '🤗',\n",
       "            '🤘',\n",
       "            '🤙',\n",
       "            '🤝',\n",
       "            '🤞',\n",
       "            '🤟',\n",
       "            '🤠',\n",
       "            '🤡',\n",
       "            '🤢',\n",
       "            '🤣',\n",
       "            '🤤',\n",
       "            '🤥',\n",
       "            '🤦',\n",
       "            '🤧',\n",
       "            '🤨',\n",
       "            '🤩',\n",
       "            '🤪',\n",
       "            '🤫',\n",
       "            '🤬',\n",
       "            '🤭',\n",
       "            '🤮',\n",
       "            '🤯',\n",
       "            '🤰',\n",
       "            '🤳',\n",
       "            '🤴',\n",
       "            '🤷',\n",
       "            '🤸',\n",
       "            '🤾',\n",
       "            '🥀',\n",
       "            '🥂',\n",
       "            '🥃',\n",
       "            '🥄',\n",
       "            '🥅',\n",
       "            '🥇',\n",
       "            '🥈',\n",
       "            '🥉',\n",
       "            '🥊',\n",
       "            '🥋',\n",
       "            '🥓',\n",
       "            '🥔',\n",
       "            '🥖',\n",
       "            '🥚',\n",
       "            '🥛',\n",
       "            '🥞',\n",
       "            '🦁',\n",
       "            '🦃',\n",
       "            '🦄',\n",
       "            '🦅',\n",
       "            '🦆',\n",
       "            '🦇',\n",
       "            '🦈',\n",
       "            '🦉',\n",
       "            '🦊',\n",
       "            '🦋',\n",
       "            '🦍',\n",
       "            '🦎',\n",
       "            '🦏',\n",
       "            '🦒',\n",
       "            '🦖',\n",
       "            '🧀',\n",
       "            '🧐',\n",
       "            '🧒',\n",
       "            '🧔',\n",
       "            '🧖',\n",
       "            '🧗',\n",
       "            '🧘',\n",
       "            '🧚',\n",
       "            '🧜',\n",
       "            '🧝',\n",
       "            '🧞',\n",
       "            '🧠',\n",
       "            '🧡',\n",
       "            '🧢'}),\n",
       " frozenset({'🌃', '🌌'}),\n",
       " frozenset({'🎡', '🎢'}),\n",
       " frozenset({'🏇', '🏮'}),\n",
       " frozenset({'🍣', '🦐'}),\n",
       " frozenset({'🚪', '🤛'}),\n",
       " frozenset({'☎', '📮'})]"
      ]
     },
     "execution_count": 16,
     "metadata": {},
     "output_type": "execute_result"
    }
   ],
   "source": [
    "# Modularity clustering:\n",
    "from networkx.algorithms.community import greedy_modularity_communities\n",
    "\n",
    "clustered = greedy_modularity_communities(G)\n",
    "print(\"The number of communities is: \", len(list(clustered)))\n",
    "\n",
    "clustered"
   ]
  },
  {
   "cell_type": "code",
   "execution_count": null,
   "metadata": {},
   "outputs": [],
   "source": []
  },
  {
   "cell_type": "code",
   "execution_count": null,
   "metadata": {},
   "outputs": [],
   "source": []
  },
  {
   "cell_type": "code",
   "execution_count": null,
   "metadata": {},
   "outputs": [],
   "source": []
  },
  {
   "cell_type": "code",
   "execution_count": null,
   "metadata": {},
   "outputs": [],
   "source": [
    "# Meta[4]\n",
    "# emoji.demojize(Meta[4])"
   ]
  }
 ],
 "metadata": {
  "kernelspec": {
   "display_name": "Python 3",
   "language": "python",
   "name": "python3"
  },
  "language_info": {
   "codemirror_mode": {
    "name": "ipython",
    "version": 3
   },
   "file_extension": ".py",
   "mimetype": "text/x-python",
   "name": "python",
   "nbconvert_exporter": "python",
   "pygments_lexer": "ipython3",
   "version": "3.7.2"
  }
 },
 "nbformat": 4,
 "nbformat_minor": 2
}
