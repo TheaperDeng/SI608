{
 "cells": [
  {
   "cell_type": "code",
   "execution_count": 2,
   "metadata": {},
   "outputs": [],
   "source": [
    "import network_map2 as nm2\n",
    "import networkx as nx\n",
    "import json\n",
    "import pickle"
   ]
  },
  {
   "cell_type": "code",
   "execution_count": 3,
   "metadata": {},
   "outputs": [],
   "source": [
    "with open(\"Total_FG.p\", 'rb') as f: \n",
    "    FG = pickle.load(f)"
   ]
  },
  {
   "cell_type": "code",
   "execution_count": 4,
   "metadata": {},
   "outputs": [],
   "source": [
    "with open(\"Sample_GP.p\", 'rb') as f: \n",
    "    Gp1 = pickle.load(f)"
   ]
  },
  {
   "cell_type": "code",
   "execution_count": 1,
   "metadata": {},
   "outputs": [],
   "source": [
    "def load_graph(FG_NAME, GP_NAME):\n",
    "    import network_map2 as nm2\n",
    "    import networkx as nx\n",
    "    import json\n",
    "    import pickle\n",
    "\n",
    "    \n",
    "    with open(FG_NAME, 'rb') as f: \n",
    "        FG = pickle.load(f)\n",
    "    with open(GP_NAME, 'rb') as f: \n",
    "        Gp1 = pickle.load(f)  \n",
    "    return (FG, Gp1)\n",
    "    "
   ]
  },
  {
   "cell_type": "code",
   "execution_count": 2,
   "metadata": {},
   "outputs": [],
   "source": [
    "FG, Gp1 = load_graph(\"Total_FG.p\", \"Sample_GP.p\")"
   ]
  },
  {
   "cell_type": "code",
   "execution_count": 1,
   "metadata": {},
   "outputs": [],
   "source": [
    "import projection_model as pm"
   ]
  },
  {
   "cell_type": "code",
   "execution_count": 2,
   "metadata": {},
   "outputs": [],
   "source": [
    "FG, Gp1 = pm.load_graph(\"Total_FG.p\", \"Sample_GP.p\")"
   ]
  },
  {
   "cell_type": "code",
   "execution_count": 5,
   "metadata": {},
   "outputs": [],
   "source": [
    "word_in = 'launch'\n",
    "emoji_in = ':rocket:'\n",
    "# word_in = '(profits'\n",
    "# emoji_in = ':rocket:'"
   ]
  },
  {
   "cell_type": "code",
   "execution_count": 6,
   "metadata": {},
   "outputs": [
    {
     "data": {
      "text/plain": [
       "0.33760459891884886"
      ]
     },
     "execution_count": 6,
     "metadata": {},
     "output_type": "execute_result"
    }
   ],
   "source": [
    "pm.projection_method(word_in, emoji_in, FG, Gp1)"
   ]
  },
  {
   "cell_type": "code",
   "execution_count": null,
   "metadata": {},
   "outputs": [],
   "source": []
  },
  {
   "cell_type": "code",
   "execution_count": 5,
   "metadata": {},
   "outputs": [],
   "source": [
    "# word_in = 'launch'\n",
    "# emoji_in = ':rocket:'\n",
    "word_in = '(profits'\n",
    "emoji_in = ':rocket:'\n",
    "\n",
    "# See the emoji of direct this word\n",
    "res_weight = 0\n",
    "total_weight = 0\n",
    "weight_emoji = 0\n",
    "for e in FG[word_in]:\n",
    "    total_weight += FG[word_in][e]['weight']\n",
    "    if e == emoji_in:\n",
    "        weight_emoji = FG[word_in][e]['weight']\n",
    "\n",
    "res_weight += weight_emoji/total_weight\n",
    "\n",
    "# See the emoji of neighbours\n",
    "sum_weight_neibour = 0\n",
    "for neighbours in Gp1[word_in]:\n",
    "    sum_weight_neibour += Gp1[word_in][neighbours]['weight']\n",
    "for neighbours in Gp1[word_in]:    \n",
    "    current_neighbour_weight = Gp1[word_in][neighbours]['weight']/sum_weight_neibour\n",
    "    total_weight = 0\n",
    "    weight_emoji = 0\n",
    "    for e in FG[neighbours]:\n",
    "        total_weight += FG[neighbours][e]['weight']\n",
    "        if e == emoji_in:\n",
    "            weight_emoji = FG[neighbours][e]['weight']\n",
    "    res_weight += current_neighbour_weight * (weight_emoji/total_weight)"
   ]
  },
  {
   "cell_type": "code",
   "execution_count": 6,
   "metadata": {},
   "outputs": [
    {
     "data": {
      "text/plain": [
       "0.0040101829719307105"
      ]
     },
     "execution_count": 6,
     "metadata": {},
     "output_type": "execute_result"
    }
   ],
   "source": [
    "res_weight"
   ]
  },
  {
   "cell_type": "code",
   "execution_count": 7,
   "metadata": {},
   "outputs": [],
   "source": [
    "# word_in = 'launch'\n",
    "# emoji_in = ':rocket:'\n",
    "word_in = '(profits'\n",
    "emoji_in = ':rocket:'\n",
    "\n",
    "\n",
    "def projection_method(word_in, emoji_in):\n",
    "    # See the emoji of direct this word\n",
    "    res_weight = 0\n",
    "    total_weight = 0\n",
    "    weight_emoji = 0\n",
    "    for e in FG[word_in]:\n",
    "        total_weight += FG[word_in][e]['weight']\n",
    "        if e == emoji_in:\n",
    "            weight_emoji = FG[word_in][e]['weight']\n",
    "\n",
    "    res_weight += weight_emoji/total_weight\n",
    "\n",
    "    # See the emoji of neighbours\n",
    "    sum_weight_neibour = 0\n",
    "    for neighbours in Gp1[word_in]:\n",
    "        sum_weight_neibour += Gp1[word_in][neighbours]['weight']\n",
    "    for neighbours in Gp1[word_in]:    \n",
    "        current_neighbour_weight = Gp1[word_in][neighbours]['weight']/sum_weight_neibour\n",
    "        total_weight = 0\n",
    "        weight_emoji = 0\n",
    "        for e in FG[neighbours]:\n",
    "            total_weight += FG[neighbours][e]['weight']\n",
    "            if e == emoji_in:\n",
    "                weight_emoji = FG[neighbours][e]['weight']\n",
    "        res_weight += current_neighbour_weight * (weight_emoji/total_weight)\n",
    "    \n",
    "    return res_weight"
   ]
  },
  {
   "cell_type": "code",
   "execution_count": 8,
   "metadata": {},
   "outputs": [
    {
     "data": {
      "text/plain": [
       "0.0040101829719307105"
      ]
     },
     "execution_count": 8,
     "metadata": {},
     "output_type": "execute_result"
    }
   ],
   "source": [
    "projection_method(word_in, emoji_in)"
   ]
  },
  {
   "cell_type": "code",
   "execution_count": null,
   "metadata": {},
   "outputs": [],
   "source": []
  }
 ],
 "metadata": {
  "kernelspec": {
   "display_name": "Python 3",
   "language": "python",
   "name": "python3"
  },
  "language_info": {
   "codemirror_mode": {
    "name": "ipython",
    "version": 3
   },
   "file_extension": ".py",
   "mimetype": "text/x-python",
   "name": "python",
   "nbconvert_exporter": "python",
   "pygments_lexer": "ipython3",
   "version": "3.7.3"
  }
 },
 "nbformat": 4,
 "nbformat_minor": 2
}
