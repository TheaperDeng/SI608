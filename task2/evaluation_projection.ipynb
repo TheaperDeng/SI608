{
 "cells": [
  {
   "cell_type": "code",
   "execution_count": 1,
   "metadata": {},
   "outputs": [],
   "source": [
    "import emoji # pip install emoji\n",
    "import re\n",
    "import os\n",
    "import sys\n",
    "import time\n",
    "import string\n",
    "import json\n",
    "import pandas as pd\n",
    "import csv\n",
    "import sklearn\n",
    "\n",
    "from surprise import SVD\n",
    "from surprise import accuracy\n",
    "from surprise.model_selection import KFold\n",
    "from surprise import Reader\n",
    "from surprise import Dataset\n",
    "from surprise.model_selection import cross_validate"
   ]
  },
  {
   "cell_type": "markdown",
   "metadata": {},
   "source": [
    "I believe you need the your training graph here"
   ]
  },
  {
   "cell_type": "code",
   "execution_count": 2,
   "metadata": {},
   "outputs": [],
   "source": [
    "f = open(\"myfile.json\", \"r\", encoding='utf-8')\n",
    "sl = json.load(f)\n",
    "f.close()"
   ]
  },
  {
   "cell_type": "code",
   "execution_count": 3,
   "metadata": {},
   "outputs": [],
   "source": [
    "all_word_set = {}\n",
    "for key in sl.keys():\n",
    "    for word in sl[key].keys():\n",
    "        if word not in all_word_set:\n",
    "            all_word_set[word] = 1\n",
    "        else:\n",
    "            all_word_set[word] += 1"
   ]
  },
  {
   "cell_type": "markdown",
   "metadata": {},
   "source": [
    "load in the test dataset(I have generate it for you)"
   ]
  },
  {
   "cell_type": "code",
   "execution_count": 4,
   "metadata": {},
   "outputs": [],
   "source": [
    "test_df = pd.read_csv('test_rec.csv')"
   ]
  },
  {
   "cell_type": "markdown",
   "metadata": {},
   "source": [
    "filter the dataset with `all_word_set` and `all_emoji`"
   ]
  },
  {
   "cell_type": "code",
   "execution_count": 5,
   "metadata": {},
   "outputs": [],
   "source": [
    "def filter_test_data(all_word_set, all_emoji, test_df):\n",
    "    test_df = test_df.drop(labels = list(test_df[test_df.apply(lambda row:(not row.word in all_word_set) or (not row.emoji in all_emoji),axis=1)].index), axis=0)\n",
    "    return test_df"
   ]
  },
  {
   "cell_type": "code",
   "execution_count": 6,
   "metadata": {},
   "outputs": [],
   "source": [
    "test_df = filter_test_data(all_word_set, sl.keys(), test_df)"
   ]
  },
  {
   "cell_type": "code",
   "execution_count": 7,
   "metadata": {},
   "outputs": [
    {
     "data": {
      "text/html": [
       "<div>\n",
       "<style scoped>\n",
       "    .dataframe tbody tr th:only-of-type {\n",
       "        vertical-align: middle;\n",
       "    }\n",
       "\n",
       "    .dataframe tbody tr th {\n",
       "        vertical-align: top;\n",
       "    }\n",
       "\n",
       "    .dataframe thead th {\n",
       "        text-align: right;\n",
       "    }\n",
       "</style>\n",
       "<table border=\"1\" class=\"dataframe\">\n",
       "  <thead>\n",
       "    <tr style=\"text-align: right;\">\n",
       "      <th></th>\n",
       "      <th>word</th>\n",
       "      <th>emoji</th>\n",
       "    </tr>\n",
       "  </thead>\n",
       "  <tbody>\n",
       "    <tr>\n",
       "      <th>1</th>\n",
       "      <td>you,</td>\n",
       "      <td>:red_heart_selector:</td>\n",
       "    </tr>\n",
       "    <tr>\n",
       "      <th>2</th>\n",
       "      <td>love</td>\n",
       "      <td>:red_heart_selector:</td>\n",
       "    </tr>\n",
       "    <tr>\n",
       "      <th>3</th>\n",
       "      <td>hearts</td>\n",
       "      <td>:red_heart_selector:</td>\n",
       "    </tr>\n",
       "    <tr>\n",
       "      <th>4</th>\n",
       "      <td>you.</td>\n",
       "      <td>:red_heart_selector:</td>\n",
       "    </tr>\n",
       "    <tr>\n",
       "      <th>5</th>\n",
       "      <td>linkedin</td>\n",
       "      <td>:red_heart_selector:</td>\n",
       "    </tr>\n",
       "    <tr>\n",
       "      <th>...</th>\n",
       "      <td>...</td>\n",
       "      <td>...</td>\n",
       "    </tr>\n",
       "    <tr>\n",
       "      <th>6834</th>\n",
       "      <td>love</td>\n",
       "      <td>:kissing_face_with_closed_eyes:</td>\n",
       "    </tr>\n",
       "    <tr>\n",
       "      <th>6838</th>\n",
       "      <td>h</td>\n",
       "      <td>:keycap_7:</td>\n",
       "    </tr>\n",
       "    <tr>\n",
       "      <th>6839</th>\n",
       "      <td>k</td>\n",
       "      <td>:keycap_7:</td>\n",
       "    </tr>\n",
       "    <tr>\n",
       "      <th>6840</th>\n",
       "      <td>r</td>\n",
       "      <td>:keycap_7:</td>\n",
       "    </tr>\n",
       "    <tr>\n",
       "      <th>6841</th>\n",
       "      <td>n</td>\n",
       "      <td>:keycap_7:</td>\n",
       "    </tr>\n",
       "  </tbody>\n",
       "</table>\n",
       "<p>5102 rows × 2 columns</p>\n",
       "</div>"
      ],
      "text/plain": [
       "          word                            emoji\n",
       "1         you,             :red_heart_selector:\n",
       "2         love             :red_heart_selector:\n",
       "3       hearts             :red_heart_selector:\n",
       "4         you.             :red_heart_selector:\n",
       "5     linkedin             :red_heart_selector:\n",
       "...        ...                              ...\n",
       "6834      love  :kissing_face_with_closed_eyes:\n",
       "6838         h                       :keycap_7:\n",
       "6839         k                       :keycap_7:\n",
       "6840         r                       :keycap_7:\n",
       "6841         n                       :keycap_7:\n",
       "\n",
       "[5102 rows x 2 columns]"
      ]
     },
     "execution_count": 7,
     "metadata": {},
     "output_type": "execute_result"
    }
   ],
   "source": [
    "test_df"
   ]
  },
  {
   "cell_type": "markdown",
   "metadata": {},
   "source": [
    "Evaluation function"
   ]
  },
  {
   "cell_type": "code",
   "execution_count": 8,
   "metadata": {},
   "outputs": [],
   "source": [
    "def evaluate(test_df, predict_func):\n",
    "    test_df['res'] = test_df.apply(lambda row:predict_func(row.word, row.emoji) ,axis=1)\n",
    "    return test_df.mean().res"
   ]
  },
  {
   "cell_type": "markdown",
   "metadata": {},
   "source": [
    "random predictor"
   ]
  },
  {
   "cell_type": "code",
   "execution_count": 9,
   "metadata": {},
   "outputs": [],
   "source": [
    "# random predictor\n",
    "def random_pred(word, emoji):\n",
    "    global sl # can be removed\n",
    "    return 1/len(sl)"
   ]
  },
  {
   "cell_type": "code",
   "execution_count": 10,
   "metadata": {},
   "outputs": [
    {
     "data": {
      "text/plain": [
       "0.0007639419404124907"
      ]
     },
     "execution_count": 10,
     "metadata": {},
     "output_type": "execute_result"
    }
   ],
   "source": [
    "evaluate(test_df, random_pred)"
   ]
  },
  {
   "cell_type": "markdown",
   "metadata": {},
   "source": [
    "trivial neighbor method"
   ]
  },
  {
   "cell_type": "code",
   "execution_count": 27,
   "metadata": {},
   "outputs": [],
   "source": [
    "# trivial_neighbor predictor\n",
    "def trivial_neighbor(word, emoji):\n",
    "    global sl\n",
    "    total_weight = 0\n",
    "    good_weight = 0\n",
    "    for key in sl.keys():\n",
    "        if word in sl[key].keys():\n",
    "            total_weight += sl[key][word]\n",
    "            if key == emoji:\n",
    "                good_weight += sl[key][word]\n",
    "    if total_weight == 0:\n",
    "        return 0\n",
    "    else:\n",
    "        return good_weight/total_weight"
   ]
  },
  {
   "cell_type": "code",
   "execution_count": 12,
   "metadata": {},
   "outputs": [
    {
     "data": {
      "text/plain": [
       "0.04321099372389337"
      ]
     },
     "execution_count": 12,
     "metadata": {},
     "output_type": "execute_result"
    }
   ],
   "source": [
    "evaluate(test_df, trivial_neighbor)"
   ]
  },
  {
   "cell_type": "markdown",
   "metadata": {},
   "source": [
    "## Projection"
   ]
  },
  {
   "cell_type": "code",
   "execution_count": 11,
   "metadata": {},
   "outputs": [],
   "source": [
    "# GP_MODE:\n",
    "## 1. simp:simple\n",
    "## 2. hyper:hyperbolic\n",
    "## 3. ycn:ycn\n",
    "## 4. probs:probS\n",
    "## 5. heats:HeatS\n",
    "## 6. hybrid:Hybrid\n",
    "def load_graph(GP_MODE, FG_NAME = './Graphs/bipartite.gpickle'):\n",
    "    import networkx as nx\n",
    "    GP_path = './Graphs/Gp_' + GP_MODE + '_10k.gpickle'\n",
    "    Gp = nx.read_gpickle(GP_path)\n",
    "    return Gp\n"
   ]
  },
  {
   "cell_type": "code",
   "execution_count": 12,
   "metadata": {},
   "outputs": [],
   "source": [
    "Gp1 = load_graph('simp', FG_NAME = './Graphs/bipartite.gpickle')"
   ]
  },
  {
   "cell_type": "code",
   "execution_count": 13,
   "metadata": {},
   "outputs": [],
   "source": [
    "import networkx as nx\n",
    "FG = nx.read_gpickle('./Graphs/G.gpickle')"
   ]
  },
  {
   "cell_type": "code",
   "execution_count": 18,
   "metadata": {},
   "outputs": [],
   "source": [
    "def evaluate_projection(test_df, predict_func):\n",
    "    test_df['res'] = test_df.apply(lambda row:predict_func(row.word, row.emoji, FG, Gp1) ,axis=1)\n",
    "    count = 0\n",
    "    for i in list(test_df['res']):\n",
    "        if i <=0 :\n",
    "            count += 1\n",
    "    print(\"The ratio with unbipartite emoji is: {}%\".format((1-count/len(test_df))*100))        \n",
    "    return test_df.mean().res"
   ]
  },
  {
   "cell_type": "code",
   "execution_count": 16,
   "metadata": {},
   "outputs": [
    {
     "data": {
      "text/html": [
       "<div>\n",
       "<style scoped>\n",
       "    .dataframe tbody tr th:only-of-type {\n",
       "        vertical-align: middle;\n",
       "    }\n",
       "\n",
       "    .dataframe tbody tr th {\n",
       "        vertical-align: top;\n",
       "    }\n",
       "\n",
       "    .dataframe thead th {\n",
       "        text-align: right;\n",
       "    }\n",
       "</style>\n",
       "<table border=\"1\" class=\"dataframe\">\n",
       "  <thead>\n",
       "    <tr style=\"text-align: right;\">\n",
       "      <th></th>\n",
       "      <th>word</th>\n",
       "      <th>emoji</th>\n",
       "      <th>res</th>\n",
       "    </tr>\n",
       "  </thead>\n",
       "  <tbody>\n",
       "    <tr>\n",
       "      <th>1</th>\n",
       "      <td>you,</td>\n",
       "      <td>:red_heart_selector:</td>\n",
       "      <td>0.000764</td>\n",
       "    </tr>\n",
       "    <tr>\n",
       "      <th>2</th>\n",
       "      <td>love</td>\n",
       "      <td>:red_heart_selector:</td>\n",
       "      <td>0.000764</td>\n",
       "    </tr>\n",
       "    <tr>\n",
       "      <th>3</th>\n",
       "      <td>hearts</td>\n",
       "      <td>:red_heart_selector:</td>\n",
       "      <td>0.000764</td>\n",
       "    </tr>\n",
       "    <tr>\n",
       "      <th>4</th>\n",
       "      <td>you.</td>\n",
       "      <td>:red_heart_selector:</td>\n",
       "      <td>0.000764</td>\n",
       "    </tr>\n",
       "    <tr>\n",
       "      <th>5</th>\n",
       "      <td>linkedin</td>\n",
       "      <td>:red_heart_selector:</td>\n",
       "      <td>0.000764</td>\n",
       "    </tr>\n",
       "  </tbody>\n",
       "</table>\n",
       "</div>"
      ],
      "text/plain": [
       "       word                 emoji       res\n",
       "1      you,  :red_heart_selector:  0.000764\n",
       "2      love  :red_heart_selector:  0.000764\n",
       "3    hearts  :red_heart_selector:  0.000764\n",
       "4      you.  :red_heart_selector:  0.000764\n",
       "5  linkedin  :red_heart_selector:  0.000764"
      ]
     },
     "execution_count": 16,
     "metadata": {},
     "output_type": "execute_result"
    }
   ],
   "source": [
    "test_df.head()"
   ]
  },
  {
   "cell_type": "code",
   "execution_count": 16,
   "metadata": {},
   "outputs": [],
   "source": [
    "# def evaluate_percent(test_df, predict_func):\n",
    "#     l_w = list(test_df['word'])\n",
    "#     l_e = list(test_df['emoji'])\n",
    "#     count = 0\n",
    "#     for i in range(len(test_df)):\n",
    "#         if predict_func(l_w[i], l_e[i], FG, Gp1) <= 0:\n",
    "#             count += 1\n",
    "        \n",
    "#     print(\"The ratio with unbipartite emoji is: {}%\".format((1-count/len(test_df))*100))    \n",
    "#     return (1-count/len(test_df))"
   ]
  },
  {
   "cell_type": "code",
   "execution_count": 16,
   "metadata": {},
   "outputs": [],
   "source": [
    "import projection_model as pm\n",
    "# FG, Gp1 = pm.load_graph(\"Total_FG.p\", \"Sample_GP.p\")"
   ]
  },
  {
   "cell_type": "code",
   "execution_count": 18,
   "metadata": {},
   "outputs": [],
   "source": [
    "# pm.projection_method(word_in, emoji_in, FG, Gp1)"
   ]
  },
  {
   "cell_type": "code",
   "execution_count": 19,
   "metadata": {},
   "outputs": [
    {
     "name": "stdout",
     "output_type": "stream",
     "text": [
      "The ratio with unbipartite emoji is: 81.86985495883967%\n"
     ]
    },
    {
     "data": {
      "text/plain": [
       "0.05768302189377547"
      ]
     },
     "execution_count": 19,
     "metadata": {},
     "output_type": "execute_result"
    }
   ],
   "source": [
    "# simple model\n",
    "Gp1 = load_graph('simp', FG_NAME = './Graphs/bipartite.gpickle')\n",
    "evaluate_projection(test_df, pm.projection_method)"
   ]
  },
  {
   "cell_type": "code",
   "execution_count": 20,
   "metadata": {},
   "outputs": [
    {
     "name": "stdout",
     "output_type": "stream",
     "text": [
      "The ratio with unbipartite emoji is: 81.86985495883967%\n"
     ]
    },
    {
     "data": {
      "text/plain": [
       "0.0556077040325089"
      ]
     },
     "execution_count": 20,
     "metadata": {},
     "output_type": "execute_result"
    }
   ],
   "source": [
    "# hyper model\n",
    "Gp1 = load_graph('hyper', FG_NAME = './Graphs/bipartite.gpickle')\n",
    "evaluate_projection(test_df, pm.projection_method)"
   ]
  },
  {
   "cell_type": "code",
   "execution_count": 21,
   "metadata": {},
   "outputs": [
    {
     "name": "stdout",
     "output_type": "stream",
     "text": [
      "The ratio with unbipartite emoji is: 81.86985495883967%\n"
     ]
    },
    {
     "data": {
      "text/plain": [
       "0.053371367156108636"
      ]
     },
     "execution_count": 21,
     "metadata": {},
     "output_type": "execute_result"
    }
   ],
   "source": [
    "# ycn model\n",
    "Gp1 = load_graph('ycn', FG_NAME = './Graphs/bipartite.gpickle')\n",
    "evaluate_projection(test_df, pm.projection_method)"
   ]
  },
  {
   "cell_type": "code",
   "execution_count": 22,
   "metadata": {},
   "outputs": [
    {
     "name": "stdout",
     "output_type": "stream",
     "text": [
      "The ratio with unbipartite emoji is: 81.86985495883967%\n"
     ]
    },
    {
     "data": {
      "text/plain": [
       "0.05695721442792921"
      ]
     },
     "execution_count": 22,
     "metadata": {},
     "output_type": "execute_result"
    }
   ],
   "source": [
    "# probs model\n",
    "Gp1 = load_graph('probs', FG_NAME = './Graphs/bipartite.gpickle')\n",
    "evaluate_projection(test_df, pm.projection_method)"
   ]
  },
  {
   "cell_type": "code",
   "execution_count": 23,
   "metadata": {},
   "outputs": [
    {
     "name": "stdout",
     "output_type": "stream",
     "text": [
      "The ratio with unbipartite emoji is: 81.86985495883967%\n"
     ]
    },
    {
     "data": {
      "text/plain": [
       "0.060237325612121716"
      ]
     },
     "execution_count": 23,
     "metadata": {},
     "output_type": "execute_result"
    }
   ],
   "source": [
    "# heats model\n",
    "Gp1 = load_graph('heats', FG_NAME = './Graphs/bipartite.gpickle')\n",
    "evaluate_projection(test_df, pm.projection_method)"
   ]
  },
  {
   "cell_type": "code",
   "execution_count": 24,
   "metadata": {},
   "outputs": [
    {
     "name": "stdout",
     "output_type": "stream",
     "text": [
      "The ratio with unbipartite emoji is: 81.86985495883967%\n"
     ]
    },
    {
     "data": {
      "text/plain": [
       "0.058846300030262415"
      ]
     },
     "execution_count": 24,
     "metadata": {},
     "output_type": "execute_result"
    }
   ],
   "source": [
    "# hybrid model\n",
    "Gp1 = load_graph('hybrid', FG_NAME = './Graphs/bipartite.gpickle')\n",
    "evaluate_projection(test_df, pm.projection_method)"
   ]
  },
  {
   "cell_type": "code",
   "execution_count": null,
   "metadata": {},
   "outputs": [],
   "source": [
    "# GP_MODE:\n",
    "## 1. simp:simple\n",
    "## 2. hyper:hyperbolic\n",
    "## 3. ycn:ycn\n",
    "## 4. probs:probS\n",
    "## 5. heats:HeatS\n",
    "## 6. hybrid:Hybrid"
   ]
  },
  {
   "cell_type": "code",
   "execution_count": 16,
   "metadata": {},
   "outputs": [
    {
     "data": {
      "text/plain": [
       "0.043210757225347354"
      ]
     },
     "execution_count": 16,
     "metadata": {},
     "output_type": "execute_result"
    }
   ],
   "source": [
    "evaluate_projection(test_df, pm.projection_method)"
   ]
  },
  {
   "cell_type": "code",
   "execution_count": null,
   "metadata": {},
   "outputs": [],
   "source": [
    "#0.059"
   ]
  },
  {
   "cell_type": "code",
   "execution_count": 15,
   "metadata": {},
   "outputs": [
    {
     "data": {
      "text/plain": [
       "0.01867609078438368"
      ]
     },
     "execution_count": 15,
     "metadata": {},
     "output_type": "execute_result"
    }
   ],
   "source": [
    "evaluate_projection(test_df, pm.projection_method)"
   ]
  },
  {
   "cell_type": "code",
   "execution_count": 19,
   "metadata": {},
   "outputs": [
    {
     "data": {
      "text/plain": [
       "0.04321099372389337"
      ]
     },
     "execution_count": 19,
     "metadata": {},
     "output_type": "execute_result"
    }
   ],
   "source": [
    "evaluate(test_df, trivial_neighbor)"
   ]
  },
  {
   "cell_type": "code",
   "execution_count": 16,
   "metadata": {},
   "outputs": [
    {
     "data": {
      "text/plain": [
       "20526"
      ]
     },
     "execution_count": 16,
     "metadata": {},
     "output_type": "execute_result"
    }
   ],
   "source": [
    "len(FG.nodes())"
   ]
  }
 ],
 "metadata": {
  "kernelspec": {
   "display_name": "Python 3",
   "language": "python",
   "name": "python3"
  },
  "language_info": {
   "codemirror_mode": {
    "name": "ipython",
    "version": 3
   },
   "file_extension": ".py",
   "mimetype": "text/x-python",
   "name": "python",
   "nbconvert_exporter": "python",
   "pygments_lexer": "ipython3",
   "version": "3.7.3"
  }
 },
 "nbformat": 4,
 "nbformat_minor": 4
}
