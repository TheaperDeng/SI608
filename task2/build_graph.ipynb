{
 "cells": [
  {
   "cell_type": "code",
   "execution_count": 6,
   "metadata": {},
   "outputs": [],
   "source": [
    "import emoji\n",
    "import re\n",
    "import os\n",
    "import sys\n",
    "import time\n",
    "import string\n",
    "import pickle\n",
    "import json\n",
    "import pandas as pd\n",
    "import csv\n",
    "import sklearn\n",
    "import networkx as nx\n",
    "from networkx.algorithms import bipartite\n",
    "import network_map2 as nm2"
   ]
  },
  {
   "cell_type": "code",
   "execution_count": 7,
   "metadata": {},
   "outputs": [],
   "source": [
    "# Read json data:\n",
    "with open(\"myfile.json\", \"r\", encoding='utf-8') as json_f:\n",
    "    sl = json.load(json_f)\n",
    "\n",
    "data = []\n",
    "for i in sl:\n",
    "    for j in sl[i]:\n",
    "        weight=sl[i][j]\n",
    "        data.append((i,j, weight))\n",
    "df = pd.DataFrame(data, columns =['Emoji', 'Word', 'Weight'])\n",
    "\n",
    "# Sample only 10,000 edges from the original data:\n",
    "df = sklearn.utils.shuffle(df,random_state = 608)\n",
    "df_sampled = df.sample(random_state = 608, n = 15000)\n",
    "# print(df_sampled)\n",
    "# # Initialize graph G:\n",
    "G = nx.Graph()\n",
    "adj_mat = []\n",
    "for index, row in df_sampled.iterrows():\n",
    "    adj_mat.append((row[0], row[1], row[2]))\n",
    "G.add_weighted_edges_from(adj_mat)\n",
    "\n",
    "# Notice: Need to select the largest connected component of the graph G since G is not entirely connected: \n",
    "G_largest = sorted(nx.connected_components(G), key = len, reverse=True)[0]\n",
    "G_largest = G.subgraph(G_largest)\n",
    "\n",
    "# # Write the bipartite graph: \n",
    "# print(\"Write the bipartite graph...\")\n",
    "# nx.write_gpickle(G_largest, \"./Graphs/bipartite.gpickle\")\n",
    "\n",
    "# Projections:\n",
    "X, Y = bipartite.sets(G_largest)\n",
    "\n",
    "rows = sorted(list(Y))\n",
    "\n",
    "# Simple projections:\n",
    "# print(\"Generate simple projections and saving...\")\n",
    "# Gp_simp = nm2.simple(G_largest, rows)\n",
    "# nx.write_gpickle(Gp_simp, \"./Gp_simp_10k.gpickle\")\n"
   ]
  },
  {
   "cell_type": "code",
   "execution_count": 9,
   "metadata": {},
   "outputs": [],
   "source": [
    "G = nx.Graph()\n",
    "adj_mat = []\n",
    "for index, row in df.iterrows():\n",
    "    adj_mat.append((row[0], row[1], row[2]))\n",
    "G.add_weighted_edges_from(adj_mat)"
   ]
  },
  {
   "cell_type": "code",
   "execution_count": 10,
   "metadata": {},
   "outputs": [],
   "source": [
    "nx.write_gpickle(G, \"./Graphs/G.gpickle\")"
   ]
  },
  {
   "cell_type": "code",
   "execution_count": 4,
   "metadata": {},
   "outputs": [
    {
     "name": "stdout",
     "output_type": "stream",
     "text": [
      "Generate Hyperbolic projection and saving...\n"
     ]
    }
   ],
   "source": [
    "\n",
    "# Hyperbolic projection:\n",
    "print(\"Generate Hyperbolic projection and saving...\")\n",
    "Gp_hyper = nm2.hyperbolic(G_largest, rows)\n",
    "nx.write_gpickle(Gp_hyper, \"./Graphs/Gp_hyper_10k.gpickle\")\n",
    "\n"
   ]
  },
  {
   "cell_type": "code",
   "execution_count": 5,
   "metadata": {},
   "outputs": [
    {
     "name": "stdout",
     "output_type": "stream",
     "text": [
      "Generate YCN random walks and saving...\n",
      "Generate ProbS and saving...\n",
      "Generate HeatS and saving...\n",
      "Generate Hybrid with 0.5 weights and saving...\n"
     ]
    }
   ],
   "source": [
    "# YCN random walks:\n",
    "print(\"Generate YCN random walks and saving...\")\n",
    "Gp_ycn = nm2.ycn(G_largest, rows, directed = True)\n",
    "nx.write_gpickle(Gp_ycn, \"./Graphs/Gp_ycn_10k.gpickle\")\n",
    "\n",
    "# ProbS:\n",
    "print(\"Generate ProbS and saving...\")\n",
    "Gp_probs = nm2.probs(G_largest, rows, directed = True)\n",
    "nx.write_gpickle(Gp_probs, \"./Graphs/Gp_probs_10k.gpickle\")\n",
    "\n",
    "# HeatS:\n",
    "print(\"Generate HeatS and saving...\")\n",
    "Gp_heats = nm2.heats(G_largest, rows, directed = True)\n",
    "nx.write_gpickle(Gp_heats, \"./Graphs/Gp_heats_10k.gpickle\")\n",
    "\n",
    "# Hybrid:\n",
    "print(\"Generate Hybrid with 0.5 weights and saving...\")\n",
    "Gp_hybrid = nm2.hybrid(G_largest, rows, .5, directed = True)\n",
    "nx.write_gpickle(Gp_hybrid, \"./Graphs/Gp_hybrid_10k.gpickle\")"
   ]
  },
  {
   "cell_type": "code",
   "execution_count": null,
   "metadata": {},
   "outputs": [],
   "source": []
  }
 ],
 "metadata": {
  "kernelspec": {
   "display_name": "Python 3",
   "language": "python",
   "name": "python3"
  },
  "language_info": {
   "codemirror_mode": {
    "name": "ipython",
    "version": 3
   },
   "file_extension": ".py",
   "mimetype": "text/x-python",
   "name": "python",
   "nbconvert_exporter": "python",
   "pygments_lexer": "ipython3",
   "version": "3.7.3"
  }
 },
 "nbformat": 4,
 "nbformat_minor": 2
}
