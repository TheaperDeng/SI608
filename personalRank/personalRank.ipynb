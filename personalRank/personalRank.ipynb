{
 "cells": [
  {
   "cell_type": "code",
   "execution_count": 1,
   "metadata": {},
   "outputs": [],
   "source": [
    "import json"
   ]
  },
  {
   "cell_type": "code",
   "execution_count": 2,
   "metadata": {},
   "outputs": [],
   "source": [
    "f = open(\"../task2/myfile.json\", \"r\", encoding='utf-8')\n",
    "sl = json.load(f)\n",
    "f.close()"
   ]
  },
  {
   "cell_type": "code",
   "execution_count": 3,
   "metadata": {},
   "outputs": [],
   "source": [
    "def PersonalRank(G, alpha, root, max_step):   \n",
    "    weightMat = {x:0 for x in G.keys()}  \n",
    "    weightMat[root] = 1  \n",
    "    for _ in range(max_step):  \n",
    "        weightMatCopy = {x:0 for x in G.keys()}   \n",
    "        for node, neigh in G.items():  \n",
    "            for j, wij in neigh.items(): \n",
    "#                 print(j)\n",
    "#                 print(node)\n",
    "                weightMatCopy[j]=weightMatCopy.get(j,0)+alpha * weightMat[node] * wij / sum(neigh.values())  \n",
    "        weightMatCopy[root] += (1 - alpha)  \n",
    "        weightMat = weightMatCopy  \n",
    "\n",
    "#         print('iter:'  + str(k) + \"\\t\")  \n",
    "#         for key, value in rank.items():  \n",
    "#             print(\"%s:%.3f, \\t\"%(key, value))  \n",
    "\n",
    "    return weightMat  "
   ]
  },
  {
   "cell_type": "markdown",
   "metadata": {},
   "source": [
    "This may sound weird, but PersonalRank, as defined above, converges at the second step with alpha = 0.85."
   ]
  },
  {
   "cell_type": "code",
   "execution_count": 4,
   "metadata": {},
   "outputs": [
    {
     "name": "stdout",
     "output_type": "stream",
     "text": [
      "0.0\n",
      "0\n",
      "0\n",
      "0\n",
      "0\n",
      "0\n",
      "0\n",
      "0\n",
      "0\n"
     ]
    }
   ],
   "source": [
    "counter=0\n",
    "for i in sl:\n",
    "    counter+=1\n",
    "    if counter>=10:\n",
    "        break\n",
    "    res=PersonalRank(sl, 0.85, i, 10)\n",
    "    res2=PersonalRank(sl, 0.85, i, 2)\n",
    "    print(max(abs(res2[i]-res[i]) for i in res))"
   ]
  },
  {
   "cell_type": "code",
   "execution_count": 5,
   "metadata": {},
   "outputs": [
    {
     "data": {
      "text/plain": [
       "1309"
      ]
     },
     "execution_count": 5,
     "metadata": {},
     "output_type": "execute_result"
    }
   ],
   "source": [
    "len(sl)"
   ]
  },
  {
   "cell_type": "code",
   "execution_count": 6,
   "metadata": {},
   "outputs": [],
   "source": [
    "uniqueTokens=set()\n",
    "for i in sl:\n",
    "    uniqueTokens |= set(sl[i])"
   ]
  },
  {
   "cell_type": "code",
   "execution_count": 7,
   "metadata": {},
   "outputs": [
    {
     "data": {
      "text/plain": [
       "19217"
      ]
     },
     "execution_count": 7,
     "metadata": {},
     "output_type": "execute_result"
    }
   ],
   "source": [
    "len(uniqueTokens)"
   ]
  },
  {
   "cell_type": "code",
   "execution_count": 8,
   "metadata": {},
   "outputs": [
    {
     "data": {
      "text/plain": [
       "20526"
      ]
     },
     "execution_count": 8,
     "metadata": {},
     "output_type": "execute_result"
    }
   ],
   "source": [
    "len(res)"
   ]
  },
  {
   "cell_type": "code",
   "execution_count": 9,
   "metadata": {},
   "outputs": [
    {
     "data": {
      "text/plain": [
       "20526"
      ]
     },
     "execution_count": 9,
     "metadata": {},
     "output_type": "execute_result"
    }
   ],
   "source": [
    "len(sl)+len(uniqueTokens)"
   ]
  },
  {
   "cell_type": "markdown",
   "metadata": {},
   "source": [
    "Therefore PersonalRank calculates weights for both emojis and words. We need to exclude (emoji, emoji) pairs."
   ]
  },
  {
   "cell_type": "code",
   "execution_count": 13,
   "metadata": {},
   "outputs": [
    {
     "name": "stdout",
     "output_type": "stream",
     "text": [
      "Processing 100\n",
      "Processing 200\n",
      "Processing 300\n",
      "Processing 400\n",
      "Processing 500\n",
      "Processing 600\n",
      "Processing 700\n",
      "Processing 800\n",
      "Processing 900\n",
      "Processing 1000\n",
      "Processing 1100\n",
      "Processing 1200\n",
      "Processing 1300\n"
     ]
    }
   ],
   "source": [
    "weightDict=dict()\n",
    "wordKey=set()\n",
    "counter=0\n",
    "for emoji in sl:\n",
    "    counter+=1\n",
    "    if counter%100==0:\n",
    "        print(\"Processing \"+str(counter))\n",
    "    res=PersonalRank(sl, 0.85, emoji, 2)\n",
    "    for word, weight in res.items():\n",
    "        if weight==0 or emoji==word:\n",
    "            continue\n",
    "            \n",
    "        if word not in wordKey:\n",
    "            wordKey.add(word)\n",
    "            weightDict[word]={emoji:weight}\n",
    "        else:\n",
    "            weightDict[word][emoji]=weightDict[word].get(emoji,0)+weight\n",
    "    "
   ]
  },
  {
   "cell_type": "code",
   "execution_count": 14,
   "metadata": {},
   "outputs": [],
   "source": [
    "# weightDict"
   ]
  },
  {
   "cell_type": "code",
   "execution_count": 15,
   "metadata": {},
   "outputs": [
    {
     "data": {
      "text/plain": [
       "745"
      ]
     },
     "execution_count": 15,
     "metadata": {},
     "output_type": "execute_result"
    }
   ],
   "source": [
    "max(len(weightDict[i]) for i in weightDict)"
   ]
  },
  {
   "cell_type": "code",
   "execution_count": 16,
   "metadata": {},
   "outputs": [],
   "source": [
    "out_file = open(\"personalRankRaw.json\", \"w\") \n",
    "json.dump(weightDict, out_file) \n",
    "out_file.close()"
   ]
  },
  {
   "cell_type": "code",
   "execution_count": 17,
   "metadata": {},
   "outputs": [],
   "source": [
    "weightDictNormalized=weightDict.copy()"
   ]
  },
  {
   "cell_type": "code",
   "execution_count": 19,
   "metadata": {},
   "outputs": [],
   "source": [
    "for i in weightDictNormalized:\n",
    "    coe=sum(weightDictNormalized[i].values())\n",
    "    for k, v in weightDictNormalized[i].items():\n",
    "        weightDictNormalized[i][k]=v/coe"
   ]
  },
  {
   "cell_type": "code",
   "execution_count": 20,
   "metadata": {},
   "outputs": [],
   "source": [
    "out_file = open(\"personalRankNormalized.json\", \"w\") \n",
    "json.dump(weightDict, out_file) \n",
    "out_file.close()"
   ]
  }
 ],
 "metadata": {
  "kernelspec": {
   "display_name": "Python 3",
   "language": "python",
   "name": "python3"
  },
  "language_info": {
   "codemirror_mode": {
    "name": "ipython",
    "version": 3
   },
   "file_extension": ".py",
   "mimetype": "text/x-python",
   "name": "python",
   "nbconvert_exporter": "python",
   "pygments_lexer": "ipython3",
   "version": "3.7.0"
  }
 },
 "nbformat": 4,
 "nbformat_minor": 2
}
